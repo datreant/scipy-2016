{
 "cells": [
  {
   "cell_type": "markdown",
   "metadata": {
    "slideshow": {
     "slide_type": "skip"
    }
   },
   "source": [
    "Talk is to be timed for 22 minutes + 3 minutes for questions.\n",
    "\n",
    "Include a pinch of mania. ;)"
   ]
  },
  {
   "cell_type": "code",
   "execution_count": 2,
   "metadata": {
    "collapsed": false,
    "slideshow": {
     "slide_type": "skip"
    }
   },
   "outputs": [],
   "source": [
    "# useful for when kernel dies\n",
    "import datreant.core as dtr\n",
    "import seaborn as sns\n",
    "import mdsynthesis as mds\n",
    "%matplotlib inline\n",
    "\n",
    "import warnings\n",
    "warnings.filterwarnings('ignore')"
   ]
  },
  {
   "cell_type": "code",
   "execution_count": 3,
   "metadata": {
    "collapsed": false,
    "slideshow": {
     "slide_type": "skip"
    }
   },
   "outputs": [
    {
     "data": {
      "text/plain": [
       "{'height': 768, 'start_slideshow_at': 'selected', 'width': 1024}"
      ]
     },
     "execution_count": 3,
     "metadata": {},
     "output_type": "execute_result"
    }
   ],
   "source": [
    "from notebook.services.config import ConfigManager\n",
    "cm = ConfigManager()\n",
    "cm.update('livereveal', {\n",
    "              'start_slideshow_at': 'selected',\n",
    "              'width': 1024,\n",
    "              'height': 768,\n",
    "        \n",
    "})"
   ]
  },
  {
   "cell_type": "markdown",
   "metadata": {
    "collapsed": true,
    "slideshow": {
     "slide_type": "slide"
    }
   },
   "source": [
    "# datreant\n",
    "\n",
    "### persistent, Pythonic trees for heterogeneous data\n",
    "\n",
    "**David L. Dotson**, Arizona State University  \n",
    "Sean L. Seyler, Arizona State University  \n",
    "Max Linke, Max Planck Institute for Biophysics  \n",
    "Richard Gowers, University of Manchester  \n",
    "Oliver Beckstein, Arizona State University\n",
    "<br><br>\n",
    "#### SciPy 2016, Austin"
   ]
  },
  {
   "cell_type": "markdown",
   "metadata": {
    "slideshow": {
     "slide_type": "slide"
    }
   },
   "source": [
    "### the problem"
   ]
  },
  {
   "cell_type": "markdown",
   "metadata": {
    "slideshow": {
     "slide_type": "fragment"
    }
   },
   "source": [
    "Scientific research often proceeds organically."
   ]
  },
  {
   "cell_type": "markdown",
   "metadata": {
    "slideshow": {
     "slide_type": "fragment"
    }
   },
   "source": [
    "[Need an image of a directory tree, perhaps randomly generated]"
   ]
  },
  {
   "cell_type": "markdown",
   "metadata": {
    "slideshow": {
     "slide_type": "fragment"
    }
   },
   "source": [
    "Though portions are planned, the process is largely messy; this is especially true for simulation work."
   ]
  },
  {
   "cell_type": "markdown",
   "metadata": {
    "slideshow": {
     "slide_type": "subslide"
    }
   },
   "source": [
    "### possible solutions?"
   ]
  },
  {
   "cell_type": "markdown",
   "metadata": {
    "slideshow": {
     "slide_type": "fragment"
    }
   },
   "source": [
    "* relational databases?\n",
    "* document databases?\n",
    "* HDFS?"
   ]
  },
  {
   "cell_type": "markdown",
   "metadata": {
    "slideshow": {
     "slide_type": "fragment"
    }
   },
   "source": [
    "Rarely are these a good fit for the data one needs to store:"
   ]
  },
  {
   "cell_type": "markdown",
   "metadata": {
    "slideshow": {
     "slide_type": "fragment"
    }
   },
   "source": [
    "- simulation parameters\n",
    "- system description\n",
    "\n",
    "- raw trajectory\n",
    "- intermediate data"
   ]
  },
  {
   "cell_type": "markdown",
   "metadata": {
    "slideshow": {
     "slide_type": "fragment"
    }
   },
   "source": [
    "Also, existing tools often require customary file formats."
   ]
  },
  {
   "cell_type": "markdown",
   "metadata": {
    "slideshow": {
     "slide_type": "slide"
    }
   },
   "source": [
    "### example: molecular dynamics (MD) simulations give positions of atoms with time"
   ]
  },
  {
   "cell_type": "code",
   "execution_count": 4,
   "metadata": {
    "collapsed": false
   },
   "outputs": [],
   "source": [
    "import nglview as nv\n",
    "\n",
    "s = mds.Sim('dims/r_01')\n",
    "prot = s.universe.select_atoms('protein')\n",
    "wg = nv.show_mdanalysis(prot)\n",
    "wg.camera = 'orthographic'\n",
    "wg"
   ]
  },
  {
   "cell_type": "markdown",
   "metadata": {
    "slideshow": {
     "slide_type": "slide"
    }
   },
   "source": [
    "### but an MD simulation isn't just the trajectory"
   ]
  },
  {
   "cell_type": "markdown",
   "metadata": {
    "slideshow": {
     "slide_type": "-"
    }
   },
   "source": [
    "<center><img src=\"figs/tree-off.png\" alt=\"tree\" height=\"754\" width=\"600\"></center>"
   ]
  },
  {
   "cell_type": "markdown",
   "metadata": {
    "slideshow": {
     "slide_type": "fragment"
    }
   },
   "source": [
    "It's also all files that encode *how* it was made, parameter choices, etc."
   ]
  },
  {
   "cell_type": "markdown",
   "metadata": {
    "slideshow": {
     "slide_type": "notes"
    }
   },
   "source": [
    "Can't easily cram all this information into a specialized database; likely less flexible than the filesystem anyway."
   ]
  },
  {
   "cell_type": "markdown",
   "metadata": {
    "slideshow": {
     "slide_type": "subslide"
    }
   },
   "source": [
    "### why not use the filesystem itself?"
   ]
  },
  {
   "cell_type": "markdown",
   "metadata": {
    "slideshow": {
     "slide_type": "fragment"
    }
   },
   "source": [
    "Cons:\n",
    "* littered with irrelevant files\n",
    "* hierarchical, but perhaps inconsistently structured"
   ]
  },
  {
   "cell_type": "markdown",
   "metadata": {
    "slideshow": {
     "slide_type": "fragment"
    }
   },
   "source": [
    "Pros:\n",
    "* already stores anything we need (by definition)\n",
    "* existing tools work with existing formats"
   ]
  },
  {
   "cell_type": "markdown",
   "metadata": {
    "slideshow": {
     "slide_type": "fragment"
    }
   },
   "source": [
    "**`datreant`** is an attempt to take advantage of the universality of the filesystem while minimizing its inconveniences"
   ]
  },
  {
   "cell_type": "markdown",
   "metadata": {
    "slideshow": {
     "slide_type": "slide"
    }
   },
   "source": [
    "## Treants: discoverable directories with metadata"
   ]
  },
  {
   "cell_type": "markdown",
   "metadata": {
    "slideshow": {
     "slide_type": "fragment"
    }
   },
   "source": [
    "A ``Treant`` is a directory with a special **state file**:"
   ]
  },
  {
   "cell_type": "code",
   "execution_count": 5,
   "metadata": {
    "collapsed": false,
    "slideshow": {
     "slide_type": "fragment"
    }
   },
   "outputs": [
    {
     "name": "stdout",
     "output_type": "stream",
     "text": [
      "maple/\n",
      " +-- Treant.86faba27-9eba-4e86-af0e-0cb9f3378cf1.json\n"
     ]
    }
   ],
   "source": [
    "import datreant.core as dtr\n",
    "\n",
    "t = dtr.Treant('maple')\n",
    "t.draw()"
   ]
  },
  {
   "cell_type": "markdown",
   "metadata": {
    "slideshow": {
     "slide_type": "fragment"
    }
   },
   "source": [
    "The state file:\n",
    "1. serves to mark the directory as a ``Treant``.\n",
    "3. includes a unique identifier (uuid) for that ``Treant``.\n",
    "2. stores metadata elements to distinguish the ``Treant``, such as *tags* and *categories*."
   ]
  },
  {
   "cell_type": "markdown",
   "metadata": {
    "slideshow": {
     "slide_type": "slide"
    }
   },
   "source": [
    "### so, Treants are walking, talking trees"
   ]
  },
  {
   "cell_type": "markdown",
   "metadata": {},
   "source": [
    "<center><figure>\n",
    "  <img src=\"figs/Treant.jpg\" alt=\"A Treant\" width=\"304\" height=\"228\", align=\"middle\">\n",
    "  <figcaption><center>A Treant with some data. <br><br><i>Dungeons and Dragons Monster Manual, Gary Gygax, 1977</i>.</center>\n",
    "  </figcaption>\n",
    "</figure></center>"
   ]
  },
  {
   "cell_type": "markdown",
   "metadata": {
    "slideshow": {
     "slide_type": "fragment"
    }
   },
   "source": [
    "**They can be uniquely identified even when moved, and they can speak through their metadata.**"
   ]
  },
  {
   "cell_type": "markdown",
   "metadata": {
    "slideshow": {
     "slide_type": "notes"
    }
   },
   "source": [
    "Unlike regular directories, Treants are uniquely identified by uuid, not by path. They can be moved, and they can tell us more about themselves with descriptive metadata."
   ]
  },
  {
   "cell_type": "markdown",
   "metadata": {
    "slideshow": {
     "slide_type": "slide"
    }
   },
   "source": [
    "### a Treant can introspect and manipulate its tree"
   ]
  },
  {
   "cell_type": "markdown",
   "metadata": {
    "slideshow": {
     "slide_type": "fragment"
    }
   },
   "source": [
    "We can use a ``Treant`` to examine its existing directory structure:"
   ]
  },
  {
   "cell_type": "code",
   "execution_count": 11,
   "metadata": {
    "collapsed": false
   },
   "outputs": [
    {
     "name": "stdout",
     "output_type": "stream",
     "text": [
      "NapA_0/\n",
      " +-- setup/\n",
      " +-- angles/\n",
      " +-- Treant.f91a79df-c223-4789-b222-5744cf7gjfdk.json\n",
      " +-- WORK/\n",
      " +-- dists/\n"
     ]
    }
   ],
   "source": [
    "napa = dtr.Treant('NapA_0/')\n",
    "napa.draw(depth=1)"
   ]
  },
  {
   "cell_type": "code",
   "execution_count": 12,
   "metadata": {
    "collapsed": false,
    "slideshow": {
     "slide_type": "fragment"
    }
   },
   "outputs": [
    {
     "name": "stdout",
     "output_type": "stream",
     "text": [
      "setup/\n",
      " +-- emin/\n",
      " +-- build/\n",
      " +-- preproduction/\n"
     ]
    }
   ],
   "source": [
    "napa['setup'].draw(depth=1)"
   ]
  },
  {
   "cell_type": "markdown",
   "metadata": {
    "slideshow": {
     "slide_type": "subslide"
    }
   },
   "source": [
    "And we can manipulate directories and files with `Tree` and `Leaf` objects, respectively."
   ]
  },
  {
   "cell_type": "code",
   "execution_count": 13,
   "metadata": {
    "collapsed": false,
    "slideshow": {
     "slide_type": "fragment"
    }
   },
   "outputs": [
    {
     "data": {
      "text/plain": [
       "<Tree: 'NapA_0/setup/'>"
      ]
     },
     "execution_count": 13,
     "metadata": {},
     "output_type": "execute_result"
    }
   ],
   "source": [
    "tree = napa['setup']\n",
    "tree"
   ]
  },
  {
   "cell_type": "code",
   "execution_count": 14,
   "metadata": {
    "collapsed": false,
    "slideshow": {
     "slide_type": "fragment"
    }
   },
   "outputs": [
    {
     "data": {
      "text/plain": [
       "<Leaf: 'NapA_0/setup/emin/em.gro'>"
      ]
     },
     "execution_count": 14,
     "metadata": {},
     "output_type": "execute_result"
    }
   ],
   "source": [
    "leaf = napa['setup/emin/em.gro']\n",
    "leaf"
   ]
  },
  {
   "cell_type": "code",
   "execution_count": 15,
   "metadata": {
    "collapsed": false
   },
   "outputs": [
    {
     "name": "stdout",
     "output_type": "stream",
     "text": [
      "NapA inward-facing\n",
      "132506\n",
      "    1GLY      N    1   5.627   5.740   3.317\n",
      "    1GLY     H1    2   5.613   5.806   3.237\n",
      "    1GLY     H2    3   5.567   5.769   3.398\n"
     ]
    }
   ],
   "source": [
    "print(leaf.read(size=160))"
   ]
  },
  {
   "cell_type": "markdown",
   "metadata": {
    "slideshow": {
     "slide_type": "subslide"
    }
   },
   "source": [
    "``Tree`` and ``Leaf`` objects are lightly-wrapped ``pathlib`` paths; they need not point to existing directories or files:"
   ]
  },
  {
   "cell_type": "code",
   "execution_count": 16,
   "metadata": {
    "collapsed": false,
    "slideshow": {
     "slide_type": "fragment"
    }
   },
   "outputs": [
    {
     "data": {
      "text/plain": [
       "True"
      ]
     },
     "execution_count": 16,
     "metadata": {},
     "output_type": "execute_result"
    }
   ],
   "source": [
    "leaf.exists"
   ]
  },
  {
   "cell_type": "markdown",
   "metadata": {
    "slideshow": {
     "slide_type": "fragment"
    }
   },
   "source": [
    "They always reflect the filesystem **as it currently is**."
   ]
  },
  {
   "cell_type": "code",
   "execution_count": 17,
   "metadata": {
    "collapsed": false
   },
   "outputs": [
    {
     "data": {
      "text/plain": [
       "['NapA_0/setup/build/topol_Protein_chain_A_ion.itp',\n",
       " 'NapA_0/setup/build/topol_Protein_chain_B.itp']"
      ]
     },
     "execution_count": 17,
     "metadata": {},
     "output_type": "execute_result"
    }
   ],
   "source": [
    "tree.glob('*/*.itp').relpaths"
   ]
  },
  {
   "cell_type": "code",
   "execution_count": 18,
   "metadata": {
    "collapsed": false
   },
   "outputs": [
    {
     "data": {
      "text/plain": [
       "['NapA_0/setup/build/md.gro',\n",
       " 'NapA_0/setup/emin/md.gro',\n",
       " 'NapA_0/setup/preproduction/md.gro']"
      ]
     },
     "execution_count": 18,
     "metadata": {},
     "output_type": "execute_result"
    }
   ],
   "source": [
    "gros = tree.trees.loc['md.gro']\n",
    "gros.relpaths"
   ]
  },
  {
   "cell_type": "code",
   "execution_count": 19,
   "metadata": {
    "collapsed": false
   },
   "outputs": [
    {
     "data": {
      "text/plain": [
       "[False, False, True]"
      ]
     },
     "execution_count": 19,
     "metadata": {},
     "output_type": "execute_result"
    }
   ],
   "source": [
    "gros.exists"
   ]
  },
  {
   "cell_type": "markdown",
   "metadata": {
    "slideshow": {
     "slide_type": "subslide"
    }
   },
   "source": [
    "### Treants are sanity preserving"
   ]
  },
  {
   "cell_type": "markdown",
   "metadata": {
    "slideshow": {
     "slide_type": "fragment"
    }
   },
   "source": [
    "Using ``Treant``, ``Tree``, and ``Leaf`` objects, we can work with the filesystem Pythonically without giving much attention to *where* these objects live within that filesystem."
   ]
  },
  {
   "cell_type": "markdown",
   "metadata": {
    "slideshow": {
     "slide_type": "fragment"
    }
   },
   "source": [
    "This is especially powerful when we have many directories/files we want to work with, possibly in many different places."
   ]
  },
  {
   "cell_type": "markdown",
   "metadata": {
    "slideshow": {
     "slide_type": "slide"
    }
   },
   "source": [
    "## aggregating and splitting on Treant metadata"
   ]
  },
  {
   "cell_type": "markdown",
   "metadata": {
    "slideshow": {
     "slide_type": "fragment"
    }
   },
   "source": [
    "What makes a `Treant` distinct from a `Tree` is its **state file**. It stores metadata that can be used to filter and split `Treant` objects when treated in aggregate."
   ]
  },
  {
   "cell_type": "markdown",
   "metadata": {
    "slideshow": {
     "slide_type": "subslide"
    }
   },
   "source": [
    "If we have many Treants, perhaps scattered around the filesystem:"
   ]
  },
  {
   "cell_type": "code",
   "execution_count": 20,
   "metadata": {
    "collapsed": false
   },
   "outputs": [],
   "source": [
    "arbor = dtr.Tree('arboretum')\n",
    "\n",
    "for path in (arbor['maple/'], arbor['an/elm/'],\n",
    "             arbor['the/oldest/oak/'], \n",
    "             arbor['the/oldest/tallest/sequoia/']):\n",
    "    dtr.Treant(path)"
   ]
  },
  {
   "cell_type": "markdown",
   "metadata": {
    "slideshow": {
     "slide_type": "fragment"
    }
   },
   "source": [
    "We can gather Treants up from the filesystem with ``datreant.core.discover``:"
   ]
  },
  {
   "cell_type": "code",
   "execution_count": 21,
   "metadata": {
    "collapsed": false
   },
   "outputs": [
    {
     "data": {
      "text/plain": [
       "<Bundle([<Treant: 'oak'>, <Treant: 'sequoia'>, <Treant: 'maple'>, <Treant: 'elm'>])>"
      ]
     },
     "execution_count": 21,
     "metadata": {},
     "output_type": "execute_result"
    }
   ],
   "source": [
    "b = dtr.discover('arboretum/')\n",
    "b"
   ]
  },
  {
   "cell_type": "markdown",
   "metadata": {
    "slideshow": {
     "slide_type": "subslide"
    }
   },
   "source": [
    "A `Bundle` is an ordered set of ``Treant`` objects. It gives convenient mechanisms for working with Treants as a single logical unit."
   ]
  },
  {
   "cell_type": "code",
   "execution_count": 22,
   "metadata": {
    "collapsed": false,
    "slideshow": {
     "slide_type": "fragment"
    }
   },
   "outputs": [
    {
     "data": {
      "text/plain": [
       "['arboretum/the/oldest/oak/',\n",
       " 'arboretum/the/oldest/tallest/sequoia/',\n",
       " 'arboretum/maple/',\n",
       " 'arboretum/an/elm/']"
      ]
     },
     "execution_count": 22,
     "metadata": {},
     "output_type": "execute_result"
    }
   ],
   "source": [
    "# get relative paths to each Treant\n",
    "b.relpaths"
   ]
  },
  {
   "cell_type": "code",
   "execution_count": 23,
   "metadata": {
    "collapsed": false,
    "slideshow": {
     "slide_type": "fragment"
    }
   },
   "outputs": [
    {
     "data": {
      "text/plain": [
       "['arboretum/the/oldest/oak/a/cat/on/a/limb',\n",
       " 'arboretum/the/oldest/tallest/sequoia/a/cat/on/a/limb',\n",
       " 'arboretum/maple/a/cat/on/a/limb',\n",
       " 'arboretum/an/elm/a/cat/on/a/limb']"
      ]
     },
     "execution_count": 23,
     "metadata": {},
     "output_type": "execute_result"
    }
   ],
   "source": [
    "# get a relative path to a named Leaf in each Treant\n",
    "b.loc['a/cat/on/a/limb'].relpaths"
   ]
  },
  {
   "cell_type": "code",
   "execution_count": 24,
   "metadata": {
    "collapsed": false
   },
   "outputs": [
    {
     "data": {
      "text/plain": [
       "['Treant.16bead77-be84-46b8-82af-7c1d25e3e4a9.json',\n",
       " 'Treant.d0695b31-95c0-45fb-84ea-45c9bea05cf8.json',\n",
       " 'Treant.2e7ef531-549b-4b70-8c4f-71ddacb1c95c.json',\n",
       " 'Treant.5314e131-5019-4049-bac1-d495de580e16.json']"
      ]
     },
     "execution_count": 24,
     "metadata": {},
     "output_type": "execute_result"
    }
   ],
   "source": [
    "# grab names of all files/dirs among Treants matching \n",
    "# glob pattern \n",
    "b.glob('*.json').names"
   ]
  },
  {
   "cell_type": "markdown",
   "metadata": {
    "slideshow": {
     "slide_type": "subslide"
    }
   },
   "source": [
    "A ``Bundle`` can subselect Treants in typical ways:"
   ]
  },
  {
   "cell_type": "code",
   "execution_count": 25,
   "metadata": {
    "collapsed": false,
    "slideshow": {
     "slide_type": "fragment"
    }
   },
   "outputs": [
    {
     "data": {
      "text/plain": [
       "<Treant: 'sequoia'>"
      ]
     },
     "execution_count": 25,
     "metadata": {},
     "output_type": "execute_result"
    }
   ],
   "source": [
    "# integer indexing\n",
    "b[1]"
   ]
  },
  {
   "cell_type": "code",
   "execution_count": 26,
   "metadata": {
    "collapsed": false,
    "slideshow": {
     "slide_type": "fragment"
    }
   },
   "outputs": [
    {
     "data": {
      "text/plain": [
       "<Bundle([<Treant: 'sequoia'>, <Treant: 'elm'>])>"
      ]
     },
     "execution_count": 26,
     "metadata": {},
     "output_type": "execute_result"
    }
   ],
   "source": [
    "# slicing\n",
    "b[1::2]"
   ]
  },
  {
   "cell_type": "code",
   "execution_count": 27,
   "metadata": {
    "collapsed": false,
    "slideshow": {
     "slide_type": "fragment"
    }
   },
   "outputs": [
    {
     "data": {
      "text/plain": [
       "<Bundle([<Treant: 'elm'>, <Treant: 'oak'>, <Treant: 'sequoia'>])>"
      ]
     },
     "execution_count": 27,
     "metadata": {},
     "output_type": "execute_result"
    }
   ],
   "source": [
    "# fancy indexing\n",
    "b[[3, 0, 1]]"
   ]
  },
  {
   "cell_type": "code",
   "execution_count": 28,
   "metadata": {
    "collapsed": false,
    "slideshow": {
     "slide_type": "fragment"
    }
   },
   "outputs": [
    {
     "data": {
      "text/plain": [
       "<Bundle([<Treant: 'oak'>, <Treant: 'elm'>])>"
      ]
     },
     "execution_count": 28,
     "metadata": {},
     "output_type": "execute_result"
    }
   ],
   "source": [
    "# boolean indexing\n",
    "b[[True, False, False, True]]"
   ]
  },
  {
   "cell_type": "code",
   "execution_count": 29,
   "metadata": {
    "collapsed": false,
    "slideshow": {
     "slide_type": "fragment"
    }
   },
   "outputs": [
    {
     "data": {
      "text/plain": [
       "<Bundle([<Treant: 'oak'>])>"
      ]
     },
     "execution_count": 29,
     "metadata": {},
     "output_type": "execute_result"
    }
   ],
   "source": [
    "# indexing by name\n",
    "b['oak']"
   ]
  },
  {
   "cell_type": "markdown",
   "metadata": {
    "slideshow": {
     "slide_type": "subslide"
    }
   },
   "source": [
    "### Treants can be filtered on their tags"
   ]
  },
  {
   "cell_type": "markdown",
   "metadata": {},
   "source": [
    "Tags are individual strings that describe a `Treant`. Setting some tags for each of our Treants:"
   ]
  },
  {
   "cell_type": "code",
   "execution_count": 30,
   "metadata": {
    "collapsed": true,
    "slideshow": {
     "slide_type": "fragment"
    }
   },
   "outputs": [],
   "source": [
    "b['maple'].tags = ['syrup', 'furniture', 'plant']\n",
    "b['sequoia'].tags = ['huge', 'plant']\n",
    "b['oak'].tags = ['for building', 'plant', 'building']\n",
    "b['elm'].tags = ['firewood', 'shady', 'paper', \n",
    "                 'plant', 'for building']"
   ]
  },
  {
   "cell_type": "markdown",
   "metadata": {
    "slideshow": {
     "slide_type": "subslide"
    }
   },
   "source": [
    "We can work with these tags in aggregate:"
   ]
  },
  {
   "cell_type": "code",
   "execution_count": 31,
   "metadata": {
    "collapsed": false
   },
   "outputs": [
    {
     "data": {
      "text/plain": [
       "<AggTags(['plant'])>"
      ]
     },
     "execution_count": 31,
     "metadata": {},
     "output_type": "execute_result"
    }
   ],
   "source": [
    "# will only show tags present in *all* members\n",
    "b.tags"
   ]
  },
  {
   "cell_type": "code",
   "execution_count": 32,
   "metadata": {
    "collapsed": false
   },
   "outputs": [
    {
     "data": {
      "text/plain": [
       "{'building',\n",
       " 'firewood',\n",
       " 'for building',\n",
       " 'furniture',\n",
       " 'huge',\n",
       " 'paper',\n",
       " 'plant',\n",
       " 'shady',\n",
       " 'syrup'}"
      ]
     },
     "execution_count": 32,
     "metadata": {},
     "output_type": "execute_result"
    }
   ],
   "source": [
    "# will show tags present among *any* member\n",
    "b.tags.any"
   ]
  },
  {
   "cell_type": "markdown",
   "metadata": {
    "slideshow": {
     "slide_type": "subslide"
    }
   },
   "source": [
    "And we can filter on them. For example, getting all Treants that are good for construction work:"
   ]
  },
  {
   "cell_type": "code",
   "execution_count": 33,
   "metadata": {
    "collapsed": false,
    "slideshow": {
     "slide_type": "fragment"
    }
   },
   "outputs": [
    {
     "data": {
      "text/plain": [
       "[True, False, False, False]"
      ]
     },
     "execution_count": 33,
     "metadata": {},
     "output_type": "execute_result"
    }
   ],
   "source": [
    "# gives a boolean index for members with this tag\n",
    "b.tags['building']"
   ]
  },
  {
   "cell_type": "code",
   "execution_count": 34,
   "metadata": {
    "collapsed": false,
    "slideshow": {
     "slide_type": "fragment"
    }
   },
   "outputs": [
    {
     "data": {
      "text/plain": [
       "<Bundle([<Treant: 'oak'>])>"
      ]
     },
     "execution_count": 34,
     "metadata": {},
     "output_type": "execute_result"
    }
   ],
   "source": [
    "# we can use this to index the Bundle itself\n",
    "b[b.tags['building']]"
   ]
  },
  {
   "cell_type": "markdown",
   "metadata": {
    "slideshow": {
     "slide_type": "fragment"
    }
   },
   "source": [
    "And since we tagged at least one ``Treant`` with \"for building\", we can do some fuzzy matching, too:"
   ]
  },
  {
   "cell_type": "code",
   "execution_count": 185,
   "metadata": {
    "collapsed": false
   },
   "outputs": [
    {
     "ename": "AttributeError",
     "evalue": "'AggTags' object has no attribute 'filter'",
     "output_type": "error",
     "traceback": [
      "\u001b[0;31m---------------------------------------------------------------------------\u001b[0m",
      "\u001b[0;31mAttributeError\u001b[0m                            Traceback (most recent call last)",
      "\u001b[0;32m<ipython-input-185-bf9befb276d5>\u001b[0m in \u001b[0;36m<module>\u001b[0;34m()\u001b[0m\n\u001b[0;32m----> 1\u001b[0;31m \u001b[0mb\u001b[0m\u001b[0;34m.\u001b[0m\u001b[0mtags\u001b[0m\u001b[0;34m.\u001b[0m\u001b[0mfilter\u001b[0m\u001b[0;34m(\u001b[0m\u001b[0;34m[\u001b[0m\u001b[0mb\u001b[0m\u001b[0;34m.\u001b[0m\u001b[0mtags\u001b[0m\u001b[0;34m.\u001b[0m\u001b[0mfuzzy\u001b[0m\u001b[0;34m(\u001b[0m\u001b[0;34m'building'\u001b[0m\u001b[0;34m,\u001b[0m \u001b[0mscope\u001b[0m\u001b[0;34m=\u001b[0m\u001b[0;34m'any'\u001b[0m\u001b[0;34m)\u001b[0m\u001b[0;34m]\u001b[0m\u001b[0;34m)\u001b[0m\u001b[0;34m\u001b[0m\u001b[0m\n\u001b[0m",
      "\u001b[0;31mAttributeError\u001b[0m: 'AggTags' object has no attribute 'filter'"
     ]
    }
   ],
   "source": [
    "b.tags.filter([b.tags.fuzzy('building', scope='any')])"
   ]
  },
  {
   "cell_type": "markdown",
   "metadata": {
    "slideshow": {
     "slide_type": "subslide"
    }
   },
   "source": [
    "or getting back Treants that are both good for construction *and* used for making furniture by giving tags as a list:"
   ]
  },
  {
   "cell_type": "code",
   "execution_count": 35,
   "metadata": {
    "collapsed": false
   },
   "outputs": [
    {
     "data": {
      "text/plain": [
       "<Bundle([])>"
      ]
     },
     "execution_count": 35,
     "metadata": {},
     "output_type": "execute_result"
    }
   ],
   "source": [
    "# a list of tags serves as an *intersection* query\n",
    "b[b.tags[['building', 'furniture']]]"
   ]
  },
  {
   "cell_type": "markdown",
   "metadata": {},
   "source": [
    "which in this case none of them are."
   ]
  },
  {
   "cell_type": "markdown",
   "metadata": {
    "slideshow": {
     "slide_type": "subslide"
    }
   },
   "source": [
    "Other tag expressions can be constructed using tuples (for *union* operations) and sets (for *negated intersections*), and nesting of any of these works as expected:"
   ]
  },
  {
   "cell_type": "code",
   "execution_count": 36,
   "metadata": {
    "collapsed": false,
    "slideshow": {
     "slide_type": "fragment"
    }
   },
   "outputs": [
    {
     "data": {
      "text/plain": [
       "<Bundle([<Treant: 'oak'>, <Treant: 'maple'>])>"
      ]
     },
     "execution_count": 36,
     "metadata": {},
     "output_type": "execute_result"
    }
   ],
   "source": [
    "# we can get a *union* by using a tuple instead of a list\n",
    "b[b.tags['building', 'furniture']]"
   ]
  },
  {
   "cell_type": "code",
   "execution_count": 38,
   "metadata": {
    "collapsed": false,
    "slideshow": {
     "slide_type": "fragment"
    }
   },
   "outputs": [
    {
     "data": {
      "text/plain": [
       "<Bundle([<Treant: 'oak'>, <Treant: 'sequoia'>, <Treant: 'maple'>, <Treant: 'elm'>])>"
      ]
     },
     "execution_count": 38,
     "metadata": {},
     "output_type": "execute_result"
    }
   ],
   "source": [
    "# and we can get a *negated intersection* by using a set\n",
    "b[b.tags[{'building', 'furniture'}]]"
   ]
  },
  {
   "cell_type": "markdown",
   "metadata": {
    "slideshow": {
     "slide_type": "fragment"
    }
   },
   "source": [
    "Using tag expressions, we can filter to Treants of interest from a ``Bundle`` counting many, perhaps hundreds, of Treants as members."
   ]
  },
  {
   "cell_type": "markdown",
   "metadata": {
    "slideshow": {
     "slide_type": "subslide"
    }
   },
   "source": [
    "### splitting Treants on categories"
   ]
  },
  {
   "cell_type": "markdown",
   "metadata": {},
   "source": [
    "Categories are key-value pairs that provide another mechanism for distinguishing Treants. We can add categories to each Treant:"
   ]
  },
  {
   "cell_type": "code",
   "execution_count": 39,
   "metadata": {
    "collapsed": true,
    "slideshow": {
     "slide_type": "fragment"
    }
   },
   "outputs": [],
   "source": [
    "# add categories to individual members\n",
    "b['oak'].categories = {'age': 'adult',\n",
    "                       'type': 'deciduous',\n",
    "                       'bark': 'mossy'}\n",
    "b['elm'].categories = {'age': 'young',\n",
    "                       'type': 'deciduous',\n",
    "                       'bark': 'smooth'}\n",
    "b['maple'].categories = {'age': 'young',\n",
    "                         'type': 'deciduous',\n",
    "                         'bark': 'mossy'}\n",
    "b['sequoia'].categories = {'age': 'old',\n",
    "                           'type': 'evergreen',\n",
    "                           'bark': 'fibrous',\n",
    "                           'home': 'california'}\n",
    "\n",
    "# add value 'tree' to category 'plant' for all members\n",
    "b.categories.add({'plant': 'tree'})"
   ]
  },
  {
   "cell_type": "markdown",
   "metadata": {
    "slideshow": {
     "slide_type": "subslide"
    }
   },
   "source": [
    "And we can access categories for individual Treants:"
   ]
  },
  {
   "cell_type": "code",
   "execution_count": 40,
   "metadata": {
    "collapsed": false
   },
   "outputs": [
    {
     "data": {
      "text/plain": [
       "<Categories({'age': 'old', 'type': 'evergreen', 'plant': 'tree', 'home': 'california', 'bark': 'fibrous'})>"
      ]
     },
     "execution_count": 40,
     "metadata": {},
     "output_type": "execute_result"
    }
   ],
   "source": [
    "seq = b['sequoia'][0]\n",
    "seq.categories"
   ]
  },
  {
   "cell_type": "markdown",
   "metadata": {
    "slideshow": {
     "slide_type": "fragment"
    }
   },
   "source": [
    "or the aggregated categories for all members in the `Bundle`:"
   ]
  },
  {
   "cell_type": "code",
   "execution_count": 41,
   "metadata": {
    "collapsed": false
   },
   "outputs": [
    {
     "data": {
      "text/plain": [
       "{'age': ['adult', 'old', 'young', 'young'],\n",
       " 'bark': ['mossy', 'fibrous', 'mossy', 'smooth'],\n",
       " 'plant': ['tree', 'tree', 'tree', 'tree'],\n",
       " 'type': ['deciduous', 'evergreen', 'deciduous', 'deciduous']}"
      ]
     },
     "execution_count": 41,
     "metadata": {},
     "output_type": "execute_result"
    }
   ],
   "source": [
    "b.categories.all"
   ]
  },
  {
   "cell_type": "markdown",
   "metadata": {
    "slideshow": {
     "slide_type": "subslide"
    }
   },
   "source": [
    "When many Treants possess the same category keys, we can take a \"split-apply-combine\" approach to working with them using `groupby`:"
   ]
  },
  {
   "cell_type": "code",
   "execution_count": 42,
   "metadata": {
    "collapsed": false,
    "slideshow": {
     "slide_type": "fragment"
    }
   },
   "outputs": [
    {
     "data": {
      "text/plain": [
       "{'fibrous': <Bundle([<Treant: 'sequoia'>])>,\n",
       " 'mossy': <Bundle([<Treant: 'oak'>, <Treant: 'maple'>])>,\n",
       " 'smooth': <Bundle([<Treant: 'elm'>])>}"
      ]
     },
     "execution_count": 42,
     "metadata": {},
     "output_type": "execute_result"
    }
   ],
   "source": [
    "b.categories.groupby('bark')"
   ]
  },
  {
   "cell_type": "markdown",
   "metadata": {
    "slideshow": {
     "slide_type": "fragment"
    }
   },
   "source": [
    "We can also group on more than one key:"
   ]
  },
  {
   "cell_type": "code",
   "execution_count": 43,
   "metadata": {
    "collapsed": false
   },
   "outputs": [
    {
     "data": {
      "text/plain": [
       "{('fibrous', 'california'): <Bundle([<Treant: 'sequoia'>])>}"
      ]
     },
     "execution_count": 43,
     "metadata": {},
     "output_type": "execute_result"
    }
   ],
   "source": [
    "b.categories.groupby(['bark', 'home'])"
   ]
  },
  {
   "cell_type": "markdown",
   "metadata": {
    "slideshow": {
     "slide_type": "fragment"
    }
   },
   "source": [
    "By leveraging the `groupby` method, we can extract Treants by category without having to explicitly access each member."
   ]
  },
  {
   "cell_type": "markdown",
   "metadata": {
    "slideshow": {
     "slide_type": "slide"
    }
   },
   "source": [
    "## Treants + the PyData stack"
   ]
  },
  {
   "cell_type": "markdown",
   "metadata": {
    "slideshow": {
     "slide_type": "fragment"
    }
   },
   "source": [
    "``datreant`` fundamentally serves as a Pythonic interface to the filesystem, bringing value to datasets and analysis results by making them easily accessible now and later."
   ]
  },
  {
   "cell_type": "markdown",
   "metadata": {
    "slideshow": {
     "slide_type": "fragment"
    }
   },
   "source": [
    "As data structures and file formats change, ``datreant`` objects can always be used in the same way to supplement the way these tools are used."
   ]
  },
  {
   "cell_type": "markdown",
   "metadata": {
    "slideshow": {
     "slide_type": "subslide"
    }
   },
   "source": [
    "### using distributed to get it done"
   ]
  },
  {
   "cell_type": "code",
   "execution_count": 45,
   "metadata": {
    "collapsed": false
   },
   "outputs": [],
   "source": [
    "from distributed import Executor, progress\n",
    "ex = Executor()"
   ]
  },
  {
   "cell_type": "code",
   "execution_count": 46,
   "metadata": {
    "collapsed": false
   },
   "outputs": [
    {
     "data": {
      "text/plain": [
       "49"
      ]
     },
     "execution_count": 46,
     "metadata": {},
     "output_type": "execute_result"
    }
   ],
   "source": [
    "b = mds.discover('sims/')\n",
    "len(b)"
   ]
  },
  {
   "cell_type": "code",
   "execution_count": 58,
   "metadata": {
    "collapsed": false
   },
   "outputs": [
    {
     "name": "stdout",
     "output_type": "stream",
     "text": [
      "angles/\n",
      " +-- sna_cg_cb/\n",
      "     +-- pdData.h5\n",
      "angles/\n",
      " +-- sna_cg_cb/\n",
      "     +-- pdData.h5\n",
      "angles/\n",
      " +-- sna_cg_cb/\n",
      "     +-- pdData.h5\n"
     ]
    }
   ],
   "source": [
    "b[:3].loc['angles'].draw()"
   ]
  },
  {
   "cell_type": "code",
   "execution_count": 68,
   "metadata": {
    "collapsed": true
   },
   "outputs": [],
   "source": [
    "def write_angle_csv(sim):\n",
    "    sim.data['angles/sna_cg_cb'].to_csv(sim['angles/sna_cg_cb.csv'].abspath)"
   ]
  },
  {
   "cell_type": "code",
   "execution_count": 69,
   "metadata": {
    "collapsed": true
   },
   "outputs": [],
   "source": [
    "write_angle_csv(b[0])"
   ]
  },
  {
   "cell_type": "code",
   "execution_count": 72,
   "metadata": {
    "collapsed": true
   },
   "outputs": [],
   "source": [
    "import pandas as pd"
   ]
  },
  {
   "cell_type": "code",
   "execution_count": 76,
   "metadata": {
    "collapsed": false
   },
   "outputs": [
    {
     "data": {
      "text/plain": [
       "<Treant: 's_15'>"
      ]
     },
     "execution_count": 76,
     "metadata": {},
     "output_type": "execute_result"
    }
   ],
   "source": [
    "b[0]"
   ]
  },
  {
   "cell_type": "code",
   "execution_count": 75,
   "metadata": {
    "collapsed": false
   },
   "outputs": [
    {
     "data": {
      "text/plain": [
       "0.0        158.804977\n",
       "1.0        150.575043\n",
       "2.0        171.955856\n",
       "3.0        140.527878\n",
       "4.0        116.462997\n",
       "5.0        171.092697\n",
       "6.0        150.119019\n",
       "7.0        124.864349\n",
       "8.0        161.515427\n",
       "9.0        125.827118\n",
       "10.0       161.878952\n",
       "11.0       158.869019\n",
       "12.0       141.789902\n",
       "13.0       158.749725\n",
       "14.0       142.622513\n",
       "15.0       155.636322\n",
       "16.0       133.567566\n",
       "17.0       135.189087\n",
       "18.0       157.145966\n",
       "19.0       153.279755\n",
       "20.0       162.659500\n",
       "21.0       143.546722\n",
       "22.0       168.828613\n",
       "23.0       158.822647\n",
       "24.0       139.704895\n",
       "25.0       163.140045\n",
       "26.0       143.376556\n",
       "27.0       147.512817\n",
       "28.0       135.580338\n",
       "29.0       148.795929\n",
       "              ...    \n",
       "13917.0    137.762772\n",
       "13918.0    128.560776\n",
       "13919.0    159.106461\n",
       "13920.0    167.689499\n",
       "13921.0    146.071518\n",
       "13922.0    134.488815\n",
       "13923.0    158.570953\n",
       "13924.0    131.001434\n",
       "13925.0    149.206787\n",
       "13926.0    135.867844\n",
       "13927.0    131.321854\n",
       "13928.0    126.903610\n",
       "13929.0    151.656876\n",
       "13930.0    141.523743\n",
       "13931.0    161.960815\n",
       "13932.0    147.109894\n",
       "13933.0    147.980362\n",
       "13934.0    153.665909\n",
       "13935.0    147.985291\n",
       "13936.0    155.322372\n",
       "13937.0    145.112595\n",
       "13938.0    171.069931\n",
       "13939.0    169.050446\n",
       "13940.0    177.047455\n",
       "13941.0    142.062653\n",
       "13942.0    154.102615\n",
       "13943.0    165.385040\n",
       "13944.0    154.047531\n",
       "13945.0    150.938217\n",
       "13946.0    158.577805\n",
       "Name: angle, dtype: float64"
      ]
     },
     "execution_count": 75,
     "metadata": {},
     "output_type": "execute_result"
    }
   ],
   "source": [
    "b[0].data['angles/sna_cg_cb']"
   ]
  },
  {
   "cell_type": "code",
   "execution_count": 81,
   "metadata": {
    "collapsed": true
   },
   "outputs": [],
   "source": [
    "pd.read_csv?"
   ]
  },
  {
   "cell_type": "code",
   "execution_count": 83,
   "metadata": {
    "collapsed": false
   },
   "outputs": [
    {
     "data": {
      "text/html": [
       "<div>\n",
       "<table border=\"1\" class=\"dataframe\">\n",
       "  <thead>\n",
       "    <tr style=\"text-align: right;\">\n",
       "      <th></th>\n",
       "      <th>1</th>\n",
       "    </tr>\n",
       "    <tr>\n",
       "      <th>0</th>\n",
       "      <th></th>\n",
       "    </tr>\n",
       "  </thead>\n",
       "  <tbody>\n",
       "    <tr>\n",
       "      <th>0.0</th>\n",
       "      <td>158.804977</td>\n",
       "    </tr>\n",
       "    <tr>\n",
       "      <th>1.0</th>\n",
       "      <td>150.575043</td>\n",
       "    </tr>\n",
       "    <tr>\n",
       "      <th>2.0</th>\n",
       "      <td>171.955856</td>\n",
       "    </tr>\n",
       "    <tr>\n",
       "      <th>3.0</th>\n",
       "      <td>140.527878</td>\n",
       "    </tr>\n",
       "    <tr>\n",
       "      <th>4.0</th>\n",
       "      <td>116.462997</td>\n",
       "    </tr>\n",
       "    <tr>\n",
       "      <th>5.0</th>\n",
       "      <td>171.092697</td>\n",
       "    </tr>\n",
       "    <tr>\n",
       "      <th>6.0</th>\n",
       "      <td>150.119019</td>\n",
       "    </tr>\n",
       "    <tr>\n",
       "      <th>7.0</th>\n",
       "      <td>124.864349</td>\n",
       "    </tr>\n",
       "    <tr>\n",
       "      <th>8.0</th>\n",
       "      <td>161.515427</td>\n",
       "    </tr>\n",
       "    <tr>\n",
       "      <th>9.0</th>\n",
       "      <td>125.827118</td>\n",
       "    </tr>\n",
       "    <tr>\n",
       "      <th>10.0</th>\n",
       "      <td>161.878952</td>\n",
       "    </tr>\n",
       "    <tr>\n",
       "      <th>11.0</th>\n",
       "      <td>158.869019</td>\n",
       "    </tr>\n",
       "    <tr>\n",
       "      <th>12.0</th>\n",
       "      <td>141.789902</td>\n",
       "    </tr>\n",
       "    <tr>\n",
       "      <th>13.0</th>\n",
       "      <td>158.749725</td>\n",
       "    </tr>\n",
       "    <tr>\n",
       "      <th>14.0</th>\n",
       "      <td>142.622513</td>\n",
       "    </tr>\n",
       "    <tr>\n",
       "      <th>15.0</th>\n",
       "      <td>155.636322</td>\n",
       "    </tr>\n",
       "    <tr>\n",
       "      <th>16.0</th>\n",
       "      <td>133.567566</td>\n",
       "    </tr>\n",
       "    <tr>\n",
       "      <th>17.0</th>\n",
       "      <td>135.189087</td>\n",
       "    </tr>\n",
       "    <tr>\n",
       "      <th>18.0</th>\n",
       "      <td>157.145966</td>\n",
       "    </tr>\n",
       "    <tr>\n",
       "      <th>19.0</th>\n",
       "      <td>153.279755</td>\n",
       "    </tr>\n",
       "    <tr>\n",
       "      <th>20.0</th>\n",
       "      <td>162.659500</td>\n",
       "    </tr>\n",
       "    <tr>\n",
       "      <th>21.0</th>\n",
       "      <td>143.546722</td>\n",
       "    </tr>\n",
       "    <tr>\n",
       "      <th>22.0</th>\n",
       "      <td>168.828613</td>\n",
       "    </tr>\n",
       "    <tr>\n",
       "      <th>23.0</th>\n",
       "      <td>158.822647</td>\n",
       "    </tr>\n",
       "    <tr>\n",
       "      <th>24.0</th>\n",
       "      <td>139.704895</td>\n",
       "    </tr>\n",
       "    <tr>\n",
       "      <th>25.0</th>\n",
       "      <td>163.140045</td>\n",
       "    </tr>\n",
       "    <tr>\n",
       "      <th>26.0</th>\n",
       "      <td>143.376556</td>\n",
       "    </tr>\n",
       "    <tr>\n",
       "      <th>27.0</th>\n",
       "      <td>147.512817</td>\n",
       "    </tr>\n",
       "    <tr>\n",
       "      <th>28.0</th>\n",
       "      <td>135.580338</td>\n",
       "    </tr>\n",
       "    <tr>\n",
       "      <th>29.0</th>\n",
       "      <td>148.795929</td>\n",
       "    </tr>\n",
       "    <tr>\n",
       "      <th>...</th>\n",
       "      <td>...</td>\n",
       "    </tr>\n",
       "    <tr>\n",
       "      <th>13917.0</th>\n",
       "      <td>137.762772</td>\n",
       "    </tr>\n",
       "    <tr>\n",
       "      <th>13918.0</th>\n",
       "      <td>128.560776</td>\n",
       "    </tr>\n",
       "    <tr>\n",
       "      <th>13919.0</th>\n",
       "      <td>159.106461</td>\n",
       "    </tr>\n",
       "    <tr>\n",
       "      <th>13920.0</th>\n",
       "      <td>167.689499</td>\n",
       "    </tr>\n",
       "    <tr>\n",
       "      <th>13921.0</th>\n",
       "      <td>146.071518</td>\n",
       "    </tr>\n",
       "    <tr>\n",
       "      <th>13922.0</th>\n",
       "      <td>134.488815</td>\n",
       "    </tr>\n",
       "    <tr>\n",
       "      <th>13923.0</th>\n",
       "      <td>158.570953</td>\n",
       "    </tr>\n",
       "    <tr>\n",
       "      <th>13924.0</th>\n",
       "      <td>131.001434</td>\n",
       "    </tr>\n",
       "    <tr>\n",
       "      <th>13925.0</th>\n",
       "      <td>149.206787</td>\n",
       "    </tr>\n",
       "    <tr>\n",
       "      <th>13926.0</th>\n",
       "      <td>135.867844</td>\n",
       "    </tr>\n",
       "    <tr>\n",
       "      <th>13927.0</th>\n",
       "      <td>131.321854</td>\n",
       "    </tr>\n",
       "    <tr>\n",
       "      <th>13928.0</th>\n",
       "      <td>126.903610</td>\n",
       "    </tr>\n",
       "    <tr>\n",
       "      <th>13929.0</th>\n",
       "      <td>151.656876</td>\n",
       "    </tr>\n",
       "    <tr>\n",
       "      <th>13930.0</th>\n",
       "      <td>141.523743</td>\n",
       "    </tr>\n",
       "    <tr>\n",
       "      <th>13931.0</th>\n",
       "      <td>161.960815</td>\n",
       "    </tr>\n",
       "    <tr>\n",
       "      <th>13932.0</th>\n",
       "      <td>147.109894</td>\n",
       "    </tr>\n",
       "    <tr>\n",
       "      <th>13933.0</th>\n",
       "      <td>147.980362</td>\n",
       "    </tr>\n",
       "    <tr>\n",
       "      <th>13934.0</th>\n",
       "      <td>153.665909</td>\n",
       "    </tr>\n",
       "    <tr>\n",
       "      <th>13935.0</th>\n",
       "      <td>147.985291</td>\n",
       "    </tr>\n",
       "    <tr>\n",
       "      <th>13936.0</th>\n",
       "      <td>155.322372</td>\n",
       "    </tr>\n",
       "    <tr>\n",
       "      <th>13937.0</th>\n",
       "      <td>145.112595</td>\n",
       "    </tr>\n",
       "    <tr>\n",
       "      <th>13938.0</th>\n",
       "      <td>171.069931</td>\n",
       "    </tr>\n",
       "    <tr>\n",
       "      <th>13939.0</th>\n",
       "      <td>169.050446</td>\n",
       "    </tr>\n",
       "    <tr>\n",
       "      <th>13940.0</th>\n",
       "      <td>177.047455</td>\n",
       "    </tr>\n",
       "    <tr>\n",
       "      <th>13941.0</th>\n",
       "      <td>142.062653</td>\n",
       "    </tr>\n",
       "    <tr>\n",
       "      <th>13942.0</th>\n",
       "      <td>154.102615</td>\n",
       "    </tr>\n",
       "    <tr>\n",
       "      <th>13943.0</th>\n",
       "      <td>165.385040</td>\n",
       "    </tr>\n",
       "    <tr>\n",
       "      <th>13944.0</th>\n",
       "      <td>154.047531</td>\n",
       "    </tr>\n",
       "    <tr>\n",
       "      <th>13945.0</th>\n",
       "      <td>150.938217</td>\n",
       "    </tr>\n",
       "    <tr>\n",
       "      <th>13946.0</th>\n",
       "      <td>158.577805</td>\n",
       "    </tr>\n",
       "  </tbody>\n",
       "</table>\n",
       "<p>13948 rows × 1 columns</p>\n",
       "</div>"
      ],
      "text/plain": [
       "                  1\n",
       "0                  \n",
       "0.0      158.804977\n",
       "1.0      150.575043\n",
       "2.0      171.955856\n",
       "3.0      140.527878\n",
       "4.0      116.462997\n",
       "5.0      171.092697\n",
       "6.0      150.119019\n",
       "7.0      124.864349\n",
       "8.0      161.515427\n",
       "9.0      125.827118\n",
       "10.0     161.878952\n",
       "11.0     158.869019\n",
       "12.0     141.789902\n",
       "13.0     158.749725\n",
       "14.0     142.622513\n",
       "15.0     155.636322\n",
       "16.0     133.567566\n",
       "17.0     135.189087\n",
       "18.0     157.145966\n",
       "19.0     153.279755\n",
       "20.0     162.659500\n",
       "21.0     143.546722\n",
       "22.0     168.828613\n",
       "23.0     158.822647\n",
       "24.0     139.704895\n",
       "25.0     163.140045\n",
       "26.0     143.376556\n",
       "27.0     147.512817\n",
       "28.0     135.580338\n",
       "29.0     148.795929\n",
       "...             ...\n",
       "13917.0  137.762772\n",
       "13918.0  128.560776\n",
       "13919.0  159.106461\n",
       "13920.0  167.689499\n",
       "13921.0  146.071518\n",
       "13922.0  134.488815\n",
       "13923.0  158.570953\n",
       "13924.0  131.001434\n",
       "13925.0  149.206787\n",
       "13926.0  135.867844\n",
       "13927.0  131.321854\n",
       "13928.0  126.903610\n",
       "13929.0  151.656876\n",
       "13930.0  141.523743\n",
       "13931.0  161.960815\n",
       "13932.0  147.109894\n",
       "13933.0  147.980362\n",
       "13934.0  153.665909\n",
       "13935.0  147.985291\n",
       "13936.0  155.322372\n",
       "13937.0  145.112595\n",
       "13938.0  171.069931\n",
       "13939.0  169.050446\n",
       "13940.0  177.047455\n",
       "13941.0  142.062653\n",
       "13942.0  154.102615\n",
       "13943.0  165.385040\n",
       "13944.0  154.047531\n",
       "13945.0  150.938217\n",
       "13946.0  158.577805\n",
       "\n",
       "[13948 rows x 1 columns]"
      ]
     },
     "execution_count": 83,
     "metadata": {},
     "output_type": "execute_result"
    }
   ],
   "source": [
    "pd.read_csv(b[0].glob('angles/*.csv')[0].abspath, header=None, index_col=0)"
   ]
  },
  {
   "cell_type": "code",
   "execution_count": 67,
   "metadata": {
    "collapsed": false
   },
   "outputs": [
    {
     "data": {
      "text/plain": [
       "s_29  0.0        122.391243\n",
       "      1.0        162.181656\n",
       "      2.0        141.938370\n",
       "      3.0        151.301163\n",
       "      4.0        163.284958\n",
       "      5.0        152.366119\n",
       "      6.0        150.107330\n",
       "      7.0        154.438675\n",
       "      8.0        142.511215\n",
       "      9.0        147.842773\n",
       "      10.0       161.068130\n",
       "      11.0       156.506912\n",
       "      12.0       160.560638\n",
       "      13.0       170.813492\n",
       "      14.0       176.739960\n",
       "      15.0       157.251694\n",
       "      16.0       163.146164\n",
       "      17.0       137.933868\n",
       "      18.0       136.056763\n",
       "      19.0       174.956970\n",
       "      20.0       166.094406\n",
       "      21.0       162.126953\n",
       "      22.0       153.560928\n",
       "      23.0       147.374557\n",
       "      24.0       147.075150\n",
       "      25.0       143.330109\n",
       "      26.0       133.761322\n",
       "      27.0       142.136810\n",
       "      28.0       123.971603\n",
       "      29.0       140.831726\n",
       "                    ...    \n",
       "s_20  16095.0    156.503479\n",
       "      16096.0    162.200806\n",
       "      16097.0    139.736816\n",
       "      16098.0    170.960922\n",
       "      16099.0    139.077072\n",
       "      16100.0    156.313522\n",
       "      16101.0    152.016159\n",
       "      16102.0    159.928650\n",
       "      16103.0    140.051102\n",
       "      16104.0    142.368347\n",
       "      16105.0    143.533508\n",
       "      16106.0    145.918610\n",
       "      16107.0    165.666519\n",
       "      16108.0    139.473663\n",
       "      16109.0    156.289780\n",
       "      16110.0    153.798553\n",
       "      16111.0    157.349319\n",
       "      16112.0    155.734253\n",
       "      16113.0    138.509598\n",
       "      16114.0    148.510605\n",
       "      16115.0    141.623962\n",
       "      16116.0    145.221512\n",
       "      16117.0    126.787430\n",
       "      16118.0    169.812653\n",
       "      16119.0    127.118340\n",
       "      16120.0    107.302803\n",
       "      16121.0    170.533127\n",
       "      16122.0    166.455231\n",
       "      16123.0    113.230881\n",
       "      16124.0    114.467361\n",
       "Name: angle, dtype: float64"
      ]
     },
     "execution_count": 67,
     "metadata": {},
     "output_type": "execute_result"
    }
   ],
   "source": [
    "b.data.retrieve('angles/sna_cg_cb', by='name')"
   ]
  },
  {
   "cell_type": "code",
   "execution_count": 65,
   "metadata": {
    "collapsed": true
   },
   "outputs": [],
   "source": [
    "b.attach('data')"
   ]
  },
  {
   "cell_type": "code",
   "execution_count": 63,
   "metadata": {
    "collapsed": false
   },
   "outputs": [
    {
     "data": {
      "text/plain": [
       "<AggData([])>"
      ]
     },
     "execution_count": 63,
     "metadata": {},
     "output_type": "execute_result"
    }
   ],
   "source": [
    "b.data"
   ]
  },
  {
   "cell_type": "code",
   "execution_count": 62,
   "metadata": {
    "collapsed": false
   },
   "outputs": [
    {
     "ename": "KeyError",
     "evalue": "\"No dataset 'angles/sna_cg_cb' found in any member\"",
     "output_type": "error",
     "traceback": [
      "\u001b[0;31m---------------------------------------------------------------------------\u001b[0m",
      "\u001b[0;31mKeyError\u001b[0m                                  Traceback (most recent call last)",
      "\u001b[0;32m<ipython-input-62-559c971435d4>\u001b[0m in \u001b[0;36m<module>\u001b[0;34m()\u001b[0m\n\u001b[0;32m----> 1\u001b[0;31m \u001b[0mb\u001b[0m\u001b[0;34m.\u001b[0m\u001b[0mdata\u001b[0m\u001b[0;34m[\u001b[0m\u001b[0;34m'angles/sna_cg_cb'\u001b[0m\u001b[0;34m]\u001b[0m\u001b[0;34m\u001b[0m\u001b[0m\n\u001b[0m",
      "\u001b[0;32m/home/alter/Library/datreant/datreant.data/src/datreant/data/agglimbs.py\u001b[0m in \u001b[0;36m__getitem__\u001b[0;34m(self, handle)\u001b[0m\n\u001b[1;32m     42\u001b[0m                 \u001b[0mout\u001b[0m\u001b[0;34m.\u001b[0m\u001b[0mappend\u001b[0m\u001b[0;34m(\u001b[0m\u001b[0mself\u001b[0m\u001b[0;34m.\u001b[0m\u001b[0mretrieve\u001b[0m\u001b[0;34m(\u001b[0m\u001b[0mitem\u001b[0m\u001b[0;34m,\u001b[0m \u001b[0mby\u001b[0m\u001b[0;34m=\u001b[0m\u001b[0;34m'path'\u001b[0m\u001b[0;34m)\u001b[0m\u001b[0;34m)\u001b[0m\u001b[0;34m\u001b[0m\u001b[0m\n\u001b[1;32m     43\u001b[0m         \u001b[0;32melif\u001b[0m \u001b[0misinstance\u001b[0m\u001b[0;34m(\u001b[0m\u001b[0mhandle\u001b[0m\u001b[0;34m,\u001b[0m \u001b[0msix\u001b[0m\u001b[0;34m.\u001b[0m\u001b[0mstring_types\u001b[0m\u001b[0;34m)\u001b[0m\u001b[0;34m:\u001b[0m\u001b[0;34m\u001b[0m\u001b[0m\n\u001b[0;32m---> 44\u001b[0;31m             \u001b[0mout\u001b[0m \u001b[0;34m=\u001b[0m \u001b[0mself\u001b[0m\u001b[0;34m.\u001b[0m\u001b[0mretrieve\u001b[0m\u001b[0;34m(\u001b[0m\u001b[0mhandle\u001b[0m\u001b[0;34m,\u001b[0m \u001b[0mby\u001b[0m\u001b[0;34m=\u001b[0m\u001b[0;34m'path'\u001b[0m\u001b[0;34m)\u001b[0m\u001b[0;34m\u001b[0m\u001b[0m\n\u001b[0m\u001b[1;32m     45\u001b[0m \u001b[0;34m\u001b[0m\u001b[0m\n\u001b[1;32m     46\u001b[0m         \u001b[0;32mreturn\u001b[0m \u001b[0mout\u001b[0m\u001b[0;34m\u001b[0m\u001b[0m\n",
      "\u001b[0;32m/home/alter/Library/datreant/datreant.data/src/datreant/data/agglimbs.py\u001b[0m in \u001b[0;36mretrieve\u001b[0;34m(self, handle, by, **kwargs)\u001b[0m\n\u001b[1;32m    166\u001b[0m         \u001b[0;32mif\u001b[0m \u001b[0mhandle\u001b[0m \u001b[0;32mnot\u001b[0m \u001b[0;32min\u001b[0m \u001b[0mself\u001b[0m\u001b[0;34m.\u001b[0m\u001b[0mkeys\u001b[0m\u001b[0;34m(\u001b[0m\u001b[0;34m'any'\u001b[0m\u001b[0;34m)\u001b[0m\u001b[0;34m:\u001b[0m\u001b[0;34m\u001b[0m\u001b[0m\n\u001b[1;32m    167\u001b[0m             raise KeyError(\n\u001b[0;32m--> 168\u001b[0;31m                     \"No dataset '{}' found in any member\".format(handle))\n\u001b[0m\u001b[1;32m    169\u001b[0m \u001b[0;34m\u001b[0m\u001b[0m\n\u001b[1;32m    170\u001b[0m         \u001b[0;31m# get indexer from *by* keyword\u001b[0m\u001b[0;34m\u001b[0m\u001b[0;34m\u001b[0m\u001b[0m\n",
      "\u001b[0;31mKeyError\u001b[0m: \"No dataset 'angles/sna_cg_cb' found in any member\""
     ]
    }
   ],
   "source": [
    "b.data['dists/sna_cg_cb']"
   ]
  },
  {
   "cell_type": "code",
   "execution_count": null,
   "metadata": {
    "collapsed": true
   },
   "outputs": [],
   "source": [
    "def "
   ]
  },
  {
   "cell_type": "markdown",
   "metadata": {
    "slideshow": {
     "slide_type": "subslide"
    }
   },
   "source": [
    "[subslide on using a workflow automation system like Fireworks,\n",
    "showing how `datreant` makes this easier]"
   ]
  },
  {
   "cell_type": "markdown",
   "metadata": {
    "slideshow": {
     "slide_type": "slide"
    }
   },
   "source": [
    "## building domain-specific applications on datreant"
   ]
  },
  {
   "cell_type": "markdown",
   "metadata": {
    "slideshow": {
     "slide_type": "fragment"
    }
   },
   "source": [
    "[summary detail, probably a diagram, showing how Treants and Bundles\n",
    "are able to work just fine with `Treant` subclasses]"
   ]
  },
  {
   "cell_type": "markdown",
   "metadata": {
    "slideshow": {
     "slide_type": "slide"
    }
   },
   "source": [
    "## example: leveraging MD data with ``mdsynthesis``"
   ]
  },
  {
   "cell_type": "markdown",
   "metadata": {},
   "source": [
    "[steal example from paper, or perhaps make a simpler one? existing example isn't fast enough to do live (if that's desired)]"
   ]
  },
  {
   "cell_type": "markdown",
   "metadata": {
    "slideshow": {
     "slide_type": "slide"
    }
   },
   "source": [
    "## a growing development community"
   ]
  },
  {
   "cell_type": "markdown",
   "metadata": {
    "slideshow": {
     "slide_type": "fragment"
    }
   },
   "source": [
    "``datreant`` is a young project. There's plenty of room for new contributions at all levels."
   ]
  },
  {
   "cell_type": "markdown",
   "metadata": {},
   "source": [
    "## where we are going"
   ]
  },
  {
   "cell_type": "code",
   "execution_count": null,
   "metadata": {
    "collapsed": true
   },
   "outputs": [],
   "source": []
  },
  {
   "cell_type": "markdown",
   "metadata": {},
   "source": [
    "Things I didn't talk about:"
   ]
  },
  {
   "cell_type": "markdown",
   "metadata": {},
   "source": [
    "``datreant`` is a namespace package."
   ]
  },
  {
   "cell_type": "markdown",
   "metadata": {},
   "source": [
    "http://datreant.org\n",
    "\n",
    "packages available on both PyPI and our Anaconda channel (datreant)."
   ]
  },
  {
   "cell_type": "markdown",
   "metadata": {
    "collapsed": true,
    "slideshow": {
     "slide_type": "slide"
    }
   },
   "source": [
    "## acknowledgments"
   ]
  }
 ],
 "metadata": {
  "celltoolbar": "Slideshow",
  "kernelspec": {
   "display_name": "Python 3",
   "language": "python",
   "name": "python3"
  },
  "language_info": {
   "codemirror_mode": {
    "name": "ipython",
    "version": 3
   },
   "file_extension": ".py",
   "mimetype": "text/x-python",
   "name": "python",
   "nbconvert_exporter": "python",
   "pygments_lexer": "ipython3",
   "version": "3.5.2"
  }
 },
 "nbformat": 4,
 "nbformat_minor": 0
}
