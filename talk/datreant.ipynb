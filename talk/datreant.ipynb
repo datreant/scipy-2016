{
 "cells": [
  {
   "cell_type": "markdown",
   "metadata": {
    "slideshow": {
     "slide_type": "skip"
    }
   },
   "source": [
    "Talk is to be timed for 22 minutes + 3 minutes for questions.\n",
    "\n",
    "Include a pinch of mania. ;)"
   ]
  },
  {
   "cell_type": "code",
   "execution_count": 3,
   "metadata": {
    "collapsed": false,
    "slideshow": {
     "slide_type": "skip"
    }
   },
   "outputs": [],
   "source": [
    "# useful for when kernel dies\n",
    "import datreant.core as dtr\n",
    "import mdsynthesis as mds\n",
    "import pandas as pd\n",
    "import matplotlib.pyplot as plt\n",
    "import seaborn.apionly as sns\n",
    "\n",
    "plt.style.use('ggplot')\n",
    "sns.set_style('ticks')\n",
    "\n",
    "%matplotlib inline\n",
    "\n",
    "import warnings\n",
    "warnings.filterwarnings('ignore')"
   ]
  },
  {
   "cell_type": "code",
   "execution_count": 4,
   "metadata": {
    "collapsed": false,
    "slideshow": {
     "slide_type": "skip"
    }
   },
   "outputs": [
    {
     "data": {
      "text/plain": [
       "{'height': 720, 'start_slideshow_at': 'selected', 'width': 1280}"
      ]
     },
     "execution_count": 4,
     "metadata": {},
     "output_type": "execute_result"
    }
   ],
   "source": [
    "from notebook.services.config import ConfigManager\n",
    "cm = ConfigManager()\n",
    "cm.update('livereveal', {\n",
    "              'start_slideshow_at': 'selected',\n",
    "              'width': 1280,\n",
    "              'height': 720,\n",
    "        \n",
    "})"
   ]
  },
  {
   "cell_type": "markdown",
   "metadata": {
    "collapsed": true,
    "slideshow": {
     "slide_type": "slide"
    }
   },
   "source": [
    "# datreant\n",
    "\n",
    "### persistent, Pythonic trees for heterogeneous data\n",
    "\n",
    "**David L. Dotson**, Arizona State University  \n",
    "Sean L. Seyler, Arizona State University  \n",
    "Max Linke, Max Planck Institute for Biophysics  \n",
    "Richard Gowers, University of Manchester  \n",
    "Oliver Beckstein, Arizona State University\n",
    "<br><br>\n",
    "#### SciPy 2016, Austin"
   ]
  },
  {
   "cell_type": "markdown",
   "metadata": {
    "slideshow": {
     "slide_type": "slide"
    }
   },
   "source": [
    "### the problem"
   ]
  },
  {
   "cell_type": "markdown",
   "metadata": {
    "slideshow": {
     "slide_type": "fragment"
    }
   },
   "source": [
    "Scientific research often proceeds organically."
   ]
  },
  {
   "cell_type": "markdown",
   "metadata": {
    "slideshow": {
     "slide_type": "fragment"
    }
   },
   "source": [
    "<center><img src=\"figs/fstree.png\" alt=\"tree\" height=\"754\" width=\"700\"></center>"
   ]
  },
  {
   "cell_type": "markdown",
   "metadata": {
    "slideshow": {
     "slide_type": "fragment"
    }
   },
   "source": [
    "Though portions are planned, the process is largely messy; this is especially true for simulation work."
   ]
  },
  {
   "cell_type": "markdown",
   "metadata": {
    "slideshow": {
     "slide_type": "subslide"
    }
   },
   "source": [
    "### possible solutions?"
   ]
  },
  {
   "cell_type": "markdown",
   "metadata": {
    "slideshow": {
     "slide_type": "fragment"
    }
   },
   "source": [
    "* relational databases?\n",
    "* document databases?"
   ]
  },
  {
   "cell_type": "markdown",
   "metadata": {
    "slideshow": {
     "slide_type": "fragment"
    }
   },
   "source": [
    "Rarely are these a good fit for the data one needs to store:"
   ]
  },
  {
   "cell_type": "markdown",
   "metadata": {
    "slideshow": {
     "slide_type": "fragment"
    }
   },
   "source": [
    "- simulation parameters\n",
    "- system description\n",
    "- raw trajectory\n",
    "- intermediate data"
   ]
  },
  {
   "cell_type": "markdown",
   "metadata": {
    "slideshow": {
     "slide_type": "fragment"
    }
   },
   "source": [
    "Also, existing tools often require customary file formats."
   ]
  },
  {
   "cell_type": "markdown",
   "metadata": {
    "slideshow": {
     "slide_type": "slide"
    }
   },
   "source": [
    "### example: molecular dynamics (MD) simulations give positions of atoms with time"
   ]
  },
  {
   "cell_type": "code",
   "execution_count": 5,
   "metadata": {
    "collapsed": false
   },
   "outputs": [],
   "source": [
    "import nglview as nv\n",
    "\n",
    "s = mds.Sim('dims/r_01')\n",
    "prot = s.universe.select_atoms('protein')\n",
    "wg = nv.show_mdanalysis(prot)\n",
    "wg.camera = 'orthographic'\n",
    "wg"
   ]
  },
  {
   "cell_type": "markdown",
   "metadata": {
    "slideshow": {
     "slide_type": "slide"
    }
   },
   "source": [
    "### but an MD simulation isn't just the trajectory"
   ]
  },
  {
   "cell_type": "markdown",
   "metadata": {
    "slideshow": {
     "slide_type": "-"
    }
   },
   "source": [
    "<center><img src=\"figs/tree-off.png\" alt=\"tree\" height=\"754\" width=\"600\"></center>"
   ]
  },
  {
   "cell_type": "markdown",
   "metadata": {
    "slideshow": {
     "slide_type": "fragment"
    }
   },
   "source": [
    "It's also all files that encode *how* it was made, parameter choices, etc."
   ]
  },
  {
   "cell_type": "markdown",
   "metadata": {
    "slideshow": {
     "slide_type": "notes"
    }
   },
   "source": [
    "Can't easily cram all this information into a specialized database; likely less flexible than the filesystem anyway."
   ]
  },
  {
   "cell_type": "markdown",
   "metadata": {
    "slideshow": {
     "slide_type": "subslide"
    }
   },
   "source": [
    "### why not use the filesystem itself?"
   ]
  },
  {
   "cell_type": "markdown",
   "metadata": {
    "slideshow": {
     "slide_type": "fragment"
    }
   },
   "source": [
    "Cons:\n",
    "* littered with irrelevant files\n",
    "* hierarchical, but perhaps inconsistently structured"
   ]
  },
  {
   "cell_type": "markdown",
   "metadata": {
    "slideshow": {
     "slide_type": "fragment"
    }
   },
   "source": [
    "Pros:\n",
    "* already stores anything we need (by definition)\n",
    "* existing tools work with existing formats"
   ]
  },
  {
   "cell_type": "markdown",
   "metadata": {
    "slideshow": {
     "slide_type": "fragment"
    }
   },
   "source": [
    "**`datreant`** is an attempt to take advantage of the universality of the filesystem while minimizing its inconveniences"
   ]
  },
  {
   "cell_type": "markdown",
   "metadata": {
    "slideshow": {
     "slide_type": "slide"
    }
   },
   "source": [
    "## Treants: discoverable directories with metadata"
   ]
  },
  {
   "cell_type": "markdown",
   "metadata": {
    "slideshow": {
     "slide_type": "fragment"
    }
   },
   "source": [
    "A ``Treant`` is a directory with a special **state file**:"
   ]
  },
  {
   "cell_type": "code",
   "execution_count": 6,
   "metadata": {
    "collapsed": false,
    "slideshow": {
     "slide_type": "fragment"
    }
   },
   "outputs": [
    {
     "name": "stdout",
     "output_type": "stream",
     "text": [
      "maple/\n",
      " +-- Treant.86faba27-9eba-4e86-af0e-0cb9f3378cf1.json\n"
     ]
    }
   ],
   "source": [
    "import datreant.core as dtr\n",
    "\n",
    "t = dtr.Treant('maple')\n",
    "t.draw()"
   ]
  },
  {
   "cell_type": "markdown",
   "metadata": {
    "slideshow": {
     "slide_type": "fragment"
    }
   },
   "source": [
    "The state file:\n",
    "1. serves to mark the directory as a ``Treant``.\n",
    "3. includes a unique identifier (uuid) for that ``Treant``.\n",
    "2. stores metadata elements to distinguish the ``Treant``, such as *tags* and *categories*."
   ]
  },
  {
   "cell_type": "markdown",
   "metadata": {
    "slideshow": {
     "slide_type": "slide"
    }
   },
   "source": [
    "### so, Treants are walking, talking trees"
   ]
  },
  {
   "cell_type": "markdown",
   "metadata": {},
   "source": [
    "<center><figure>\n",
    "  <img src=\"figs/Treant.jpg\" alt=\"A Treant\" width=\"304\" height=\"228\", align=\"middle\">\n",
    "  <figcaption><center>A Treant with some data. <br><br><i>Dungeons and Dragons Monster Manual, Gary Gygax, 1977</i>.</center>\n",
    "  </figcaption>\n",
    "</figure></center>"
   ]
  },
  {
   "cell_type": "markdown",
   "metadata": {
    "slideshow": {
     "slide_type": "fragment"
    }
   },
   "source": [
    "**They can be uniquely identified even when moved, and they can speak through their metadata.**"
   ]
  },
  {
   "cell_type": "markdown",
   "metadata": {
    "slideshow": {
     "slide_type": "notes"
    }
   },
   "source": [
    "Unlike regular directories, Treants are uniquely identified by uuid, not by path. They can be moved, and they can tell us more about themselves with descriptive metadata."
   ]
  },
  {
   "cell_type": "markdown",
   "metadata": {
    "slideshow": {
     "slide_type": "slide"
    }
   },
   "source": [
    "### a Treant can introspect and manipulate its tree"
   ]
  },
  {
   "cell_type": "markdown",
   "metadata": {
    "slideshow": {
     "slide_type": "fragment"
    }
   },
   "source": [
    "We can use a ``Treant`` to examine its existing directory structure:"
   ]
  },
  {
   "cell_type": "code",
   "execution_count": 7,
   "metadata": {
    "collapsed": false
   },
   "outputs": [
    {
     "name": "stdout",
     "output_type": "stream",
     "text": [
      "NapA_0/\n",
      " +-- WORK/\n",
      " +-- setup/\n",
      " +-- dists/\n",
      " +-- Treant.f91a79df-c223-4789-b222-5744cf7gjfdk.json\n",
      " +-- angles/\n"
     ]
    }
   ],
   "source": [
    "napa = dtr.Treant('NapA_0/')\n",
    "napa.draw(depth=1)"
   ]
  },
  {
   "cell_type": "code",
   "execution_count": 8,
   "metadata": {
    "collapsed": false,
    "slideshow": {
     "slide_type": "fragment"
    }
   },
   "outputs": [
    {
     "name": "stdout",
     "output_type": "stream",
     "text": [
      "setup/\n",
      " +-- preproduction/\n",
      " +-- build/\n",
      " +-- emin/\n"
     ]
    }
   ],
   "source": [
    "napa['setup'].draw(depth=1)"
   ]
  },
  {
   "cell_type": "markdown",
   "metadata": {
    "slideshow": {
     "slide_type": "subslide"
    }
   },
   "source": [
    "And we can manipulate directories and files with `Tree` and `Leaf` objects, respectively."
   ]
  },
  {
   "cell_type": "code",
   "execution_count": 9,
   "metadata": {
    "collapsed": false,
    "slideshow": {
     "slide_type": "fragment"
    }
   },
   "outputs": [
    {
     "data": {
      "text/plain": [
       "<Tree: 'NapA_0/setup/'>"
      ]
     },
     "execution_count": 9,
     "metadata": {},
     "output_type": "execute_result"
    }
   ],
   "source": [
    "tree = napa['setup']\n",
    "tree"
   ]
  },
  {
   "cell_type": "code",
   "execution_count": 10,
   "metadata": {
    "collapsed": false,
    "slideshow": {
     "slide_type": "fragment"
    }
   },
   "outputs": [
    {
     "data": {
      "text/plain": [
       "<Leaf: 'NapA_0/setup/emin/em.gro'>"
      ]
     },
     "execution_count": 10,
     "metadata": {},
     "output_type": "execute_result"
    }
   ],
   "source": [
    "leaf = napa['setup/emin/em.gro']\n",
    "leaf"
   ]
  },
  {
   "cell_type": "code",
   "execution_count": 11,
   "metadata": {
    "collapsed": false
   },
   "outputs": [
    {
     "name": "stdout",
     "output_type": "stream",
     "text": [
      "NapA inward-facing\n",
      "132506\n",
      "    1GLY      N    1   5.627   5.740   3.317\n",
      "    1GLY     H1    2   5.613   5.806   3.237\n",
      "    1GLY     H2    3   5.567   5.769   3.398\n"
     ]
    }
   ],
   "source": [
    "print(leaf.read(size=160))"
   ]
  },
  {
   "cell_type": "markdown",
   "metadata": {
    "slideshow": {
     "slide_type": "subslide"
    }
   },
   "source": [
    "``Tree`` and ``Leaf`` objects are lightly-wrapped ``pathlib`` paths; they need not point to existing directories or files:"
   ]
  },
  {
   "cell_type": "code",
   "execution_count": 12,
   "metadata": {
    "collapsed": false,
    "slideshow": {
     "slide_type": "fragment"
    }
   },
   "outputs": [
    {
     "data": {
      "text/plain": [
       "True"
      ]
     },
     "execution_count": 12,
     "metadata": {},
     "output_type": "execute_result"
    }
   ],
   "source": [
    "# this leaf happens to exist; we did read the file, after all\n",
    "leaf.exists"
   ]
  },
  {
   "cell_type": "markdown",
   "metadata": {
    "slideshow": {
     "slide_type": "fragment"
    }
   },
   "source": [
    "They always reflect the filesystem **as it currently is**."
   ]
  },
  {
   "cell_type": "code",
   "execution_count": 13,
   "metadata": {
    "collapsed": false,
    "slideshow": {
     "slide_type": "fragment"
    }
   },
   "outputs": [
    {
     "data": {
      "text/plain": [
       "['NapA_0/setup/build/topol_Protein_chain_A_ion.itp',\n",
       " 'NapA_0/setup/build/topol_Protein_chain_B.itp']"
      ]
     },
     "execution_count": 13,
     "metadata": {},
     "output_type": "execute_result"
    }
   ],
   "source": [
    "# grab up existing files in the tree matching globbing pattern\n",
    "tree.glob('*/*.itp').relpaths"
   ]
  },
  {
   "cell_type": "code",
   "execution_count": 14,
   "metadata": {
    "collapsed": false,
    "slideshow": {
     "slide_type": "fragment"
    }
   },
   "outputs": [
    {
     "data": {
      "text/plain": [
       "['NapA_0/setup/build/md.gro',\n",
       " 'NapA_0/setup/emin/md.gro',\n",
       " 'NapA_0/setup/preproduction/md.gro']"
      ]
     },
     "execution_count": 14,
     "metadata": {},
     "output_type": "execute_result"
    }
   ],
   "source": [
    "# get Leaf objects \"md.gro\" for each tree inside \"setup\"\n",
    "gros = tree.trees.loc['md.gro']\n",
    "gros.relpaths"
   ]
  },
  {
   "cell_type": "code",
   "execution_count": 15,
   "metadata": {
    "collapsed": false,
    "slideshow": {
     "slide_type": "fragment"
    }
   },
   "outputs": [
    {
     "data": {
      "text/plain": [
       "[False, False, True]"
      ]
     },
     "execution_count": 15,
     "metadata": {},
     "output_type": "execute_result"
    }
   ],
   "source": [
    "# not all of these Leaves actually exist in the filesystem\n",
    "gros.exists"
   ]
  },
  {
   "cell_type": "markdown",
   "metadata": {
    "slideshow": {
     "slide_type": "subslide"
    }
   },
   "source": [
    "### Treants are sanity preserving"
   ]
  },
  {
   "cell_type": "markdown",
   "metadata": {
    "slideshow": {
     "slide_type": "fragment"
    }
   },
   "source": [
    "Using ``Treant``, ``Tree``, and ``Leaf`` objects, we can work with the filesystem Pythonically without giving much attention to *where* these objects live within that filesystem."
   ]
  },
  {
   "cell_type": "markdown",
   "metadata": {
    "slideshow": {
     "slide_type": "fragment"
    }
   },
   "source": [
    "This is especially powerful when we have many directories/files we want to work with, possibly in many different places."
   ]
  },
  {
   "cell_type": "markdown",
   "metadata": {
    "slideshow": {
     "slide_type": "slide"
    }
   },
   "source": [
    "## Treants are better in aggregate"
   ]
  },
  {
   "cell_type": "markdown",
   "metadata": {
    "slideshow": {
     "slide_type": "-"
    }
   },
   "source": [
    "What makes a `Treant` distinct from a `Tree` is its **state file**. It stores metadata that can be used to filter and split `Treant` objects when treated in aggregate."
   ]
  },
  {
   "cell_type": "markdown",
   "metadata": {
    "slideshow": {
     "slide_type": "subslide"
    }
   },
   "source": [
    "If we have many Treants, perhaps scattered around the filesystem:"
   ]
  },
  {
   "cell_type": "code",
   "execution_count": 16,
   "metadata": {
    "collapsed": false
   },
   "outputs": [],
   "source": [
    "arbor = dtr.Tree('arboretum')\n",
    "\n",
    "for path in (arbor['maple/'], arbor['an/elm/'],\n",
    "             arbor['the/oldest/oak/'], \n",
    "             arbor['the/oldest/tallest/sequoia/']):\n",
    "    dtr.Treant(path)"
   ]
  },
  {
   "cell_type": "markdown",
   "metadata": {
    "slideshow": {
     "slide_type": "fragment"
    }
   },
   "source": [
    "We can gather Treants up from the filesystem with ``datreant.core.discover``:"
   ]
  },
  {
   "cell_type": "code",
   "execution_count": 17,
   "metadata": {
    "collapsed": false
   },
   "outputs": [
    {
     "data": {
      "text/plain": [
       "<Bundle([<Treant: 'oak'>, <Treant: 'sequoia'>, <Treant: 'maple'>, <Treant: 'elm'>])>"
      ]
     },
     "execution_count": 17,
     "metadata": {},
     "output_type": "execute_result"
    }
   ],
   "source": [
    "b = dtr.discover('arboretum/')\n",
    "b"
   ]
  },
  {
   "cell_type": "markdown",
   "metadata": {
    "slideshow": {
     "slide_type": "subslide"
    }
   },
   "source": [
    "A `Bundle` is an ordered set of ``Treant`` objects. It gives convenient mechanisms for working with Treants as a single logical unit."
   ]
  },
  {
   "cell_type": "code",
   "execution_count": 18,
   "metadata": {
    "collapsed": false,
    "slideshow": {
     "slide_type": "fragment"
    }
   },
   "outputs": [
    {
     "data": {
      "text/plain": [
       "['arboretum/the/oldest/oak/',\n",
       " 'arboretum/the/oldest/tallest/sequoia/',\n",
       " 'arboretum/maple/',\n",
       " 'arboretum/an/elm/']"
      ]
     },
     "execution_count": 18,
     "metadata": {},
     "output_type": "execute_result"
    }
   ],
   "source": [
    "# get relative paths to each Treant\n",
    "b.relpaths"
   ]
  },
  {
   "cell_type": "code",
   "execution_count": 19,
   "metadata": {
    "collapsed": false,
    "slideshow": {
     "slide_type": "fragment"
    }
   },
   "outputs": [
    {
     "data": {
      "text/plain": [
       "['arboretum/the/oldest/oak/a/cat/on/a/limb',\n",
       " 'arboretum/the/oldest/tallest/sequoia/a/cat/on/a/limb',\n",
       " 'arboretum/maple/a/cat/on/a/limb',\n",
       " 'arboretum/an/elm/a/cat/on/a/limb']"
      ]
     },
     "execution_count": 19,
     "metadata": {},
     "output_type": "execute_result"
    }
   ],
   "source": [
    "# get a relative path to a named Leaf in each Treant\n",
    "b.loc['a/cat/on/a/limb'].relpaths"
   ]
  },
  {
   "cell_type": "code",
   "execution_count": 20,
   "metadata": {
    "collapsed": false,
    "slideshow": {
     "slide_type": "fragment"
    }
   },
   "outputs": [
    {
     "data": {
      "text/plain": [
       "['Treant.16bead77-be84-46b8-82af-7c1d25e3e4a9.json',\n",
       " 'Treant.d0695b31-95c0-45fb-84ea-45c9bea05cf8.json',\n",
       " 'Treant.2e7ef531-549b-4b70-8c4f-71ddacb1c95c.json',\n",
       " 'Treant.5314e131-5019-4049-bac1-d495de580e16.json']"
      ]
     },
     "execution_count": 20,
     "metadata": {},
     "output_type": "execute_result"
    }
   ],
   "source": [
    "# grab names of all files/dirs among Treants matching \n",
    "# glob pattern \n",
    "b.glob('*.json').names"
   ]
  },
  {
   "cell_type": "markdown",
   "metadata": {
    "slideshow": {
     "slide_type": "subslide"
    }
   },
   "source": [
    "A ``Bundle`` can subselect Treants in typical ways:"
   ]
  },
  {
   "cell_type": "code",
   "execution_count": 21,
   "metadata": {
    "collapsed": false,
    "slideshow": {
     "slide_type": "fragment"
    }
   },
   "outputs": [
    {
     "data": {
      "text/plain": [
       "<Treant: 'sequoia'>"
      ]
     },
     "execution_count": 21,
     "metadata": {},
     "output_type": "execute_result"
    }
   ],
   "source": [
    "# integer indexing\n",
    "b[1]"
   ]
  },
  {
   "cell_type": "code",
   "execution_count": 22,
   "metadata": {
    "collapsed": false,
    "slideshow": {
     "slide_type": "fragment"
    }
   },
   "outputs": [
    {
     "data": {
      "text/plain": [
       "<Bundle([<Treant: 'sequoia'>, <Treant: 'elm'>])>"
      ]
     },
     "execution_count": 22,
     "metadata": {},
     "output_type": "execute_result"
    }
   ],
   "source": [
    "# slicing\n",
    "b[1::2]"
   ]
  },
  {
   "cell_type": "code",
   "execution_count": 23,
   "metadata": {
    "collapsed": false,
    "slideshow": {
     "slide_type": "fragment"
    }
   },
   "outputs": [
    {
     "data": {
      "text/plain": [
       "<Bundle([<Treant: 'elm'>, <Treant: 'oak'>, <Treant: 'sequoia'>])>"
      ]
     },
     "execution_count": 23,
     "metadata": {},
     "output_type": "execute_result"
    }
   ],
   "source": [
    "# fancy indexing\n",
    "b[[3, 0, 1]]"
   ]
  },
  {
   "cell_type": "code",
   "execution_count": 24,
   "metadata": {
    "collapsed": false,
    "slideshow": {
     "slide_type": "fragment"
    }
   },
   "outputs": [
    {
     "data": {
      "text/plain": [
       "<Bundle([<Treant: 'oak'>, <Treant: 'elm'>])>"
      ]
     },
     "execution_count": 24,
     "metadata": {},
     "output_type": "execute_result"
    }
   ],
   "source": [
    "# boolean indexing\n",
    "b[[True, False, False, True]]"
   ]
  },
  {
   "cell_type": "code",
   "execution_count": 25,
   "metadata": {
    "collapsed": false,
    "slideshow": {
     "slide_type": "fragment"
    }
   },
   "outputs": [
    {
     "data": {
      "text/plain": [
       "<Bundle([<Treant: 'oak'>])>"
      ]
     },
     "execution_count": 25,
     "metadata": {},
     "output_type": "execute_result"
    }
   ],
   "source": [
    "# indexing by name\n",
    "b['oak']"
   ]
  },
  {
   "cell_type": "markdown",
   "metadata": {
    "slideshow": {
     "slide_type": "subslide"
    }
   },
   "source": [
    "### Treants can be filtered on their tags"
   ]
  },
  {
   "cell_type": "markdown",
   "metadata": {},
   "source": [
    "Tags are individual strings that describe a `Treant`. Setting some tags for each of our Treants:"
   ]
  },
  {
   "cell_type": "code",
   "execution_count": 26,
   "metadata": {
    "collapsed": true,
    "slideshow": {
     "slide_type": "fragment"
    }
   },
   "outputs": [],
   "source": [
    "b['maple'].tags = ['syrup', 'furniture', 'plant']\n",
    "b['sequoia'].tags = ['huge', 'plant']\n",
    "b['oak'].tags = ['for building', 'plant', 'building']\n",
    "b['elm'].tags = ['firewood', 'shady', 'paper', \n",
    "                 'plant', 'for building']"
   ]
  },
  {
   "cell_type": "markdown",
   "metadata": {
    "slideshow": {
     "slide_type": "subslide"
    }
   },
   "source": [
    "We can work with these tags in aggregate:"
   ]
  },
  {
   "cell_type": "code",
   "execution_count": 27,
   "metadata": {
    "collapsed": false
   },
   "outputs": [
    {
     "data": {
      "text/plain": [
       "<AggTags(['plant'])>"
      ]
     },
     "execution_count": 27,
     "metadata": {},
     "output_type": "execute_result"
    }
   ],
   "source": [
    "# will only show tags present in *all* members\n",
    "b.tags"
   ]
  },
  {
   "cell_type": "code",
   "execution_count": 28,
   "metadata": {
    "collapsed": false
   },
   "outputs": [
    {
     "data": {
      "text/plain": [
       "{'building',\n",
       " 'firewood',\n",
       " 'for building',\n",
       " 'furniture',\n",
       " 'huge',\n",
       " 'paper',\n",
       " 'plant',\n",
       " 'shady',\n",
       " 'syrup'}"
      ]
     },
     "execution_count": 28,
     "metadata": {},
     "output_type": "execute_result"
    }
   ],
   "source": [
    "# will show tags present among *any* member\n",
    "b.tags.any"
   ]
  },
  {
   "cell_type": "markdown",
   "metadata": {
    "slideshow": {
     "slide_type": "subslide"
    }
   },
   "source": [
    "And we can filter on them. For example, getting all Treants that are good for construction work:"
   ]
  },
  {
   "cell_type": "code",
   "execution_count": 29,
   "metadata": {
    "collapsed": false,
    "slideshow": {
     "slide_type": "fragment"
    }
   },
   "outputs": [
    {
     "data": {
      "text/plain": [
       "[True, False, False, False]"
      ]
     },
     "execution_count": 29,
     "metadata": {},
     "output_type": "execute_result"
    }
   ],
   "source": [
    "# gives a boolean index for members with this tag\n",
    "b.tags['building']"
   ]
  },
  {
   "cell_type": "code",
   "execution_count": 30,
   "metadata": {
    "collapsed": false,
    "slideshow": {
     "slide_type": "fragment"
    }
   },
   "outputs": [
    {
     "data": {
      "text/plain": [
       "<Bundle([<Treant: 'oak'>])>"
      ]
     },
     "execution_count": 30,
     "metadata": {},
     "output_type": "execute_result"
    }
   ],
   "source": [
    "# we can use this to index the Bundle itself\n",
    "b[b.tags['building']]"
   ]
  },
  {
   "cell_type": "markdown",
   "metadata": {
    "slideshow": {
     "slide_type": "fragment"
    }
   },
   "source": [
    "or since we tagged at least one ``Treant`` with \"for building\", we could do some fuzzy matching, too:"
   ]
  },
  {
   "cell_type": "code",
   "execution_count": 31,
   "metadata": {
    "collapsed": false
   },
   "outputs": [
    {
     "data": {
      "text/plain": [
       "<Bundle([<Treant: 'oak'>, <Treant: 'elm'>])>"
      ]
     },
     "execution_count": 31,
     "metadata": {},
     "output_type": "execute_result"
    }
   ],
   "source": [
    "b.tags.filter(b.tags.fuzzy('building', scope='any'))"
   ]
  },
  {
   "cell_type": "markdown",
   "metadata": {
    "slideshow": {
     "slide_type": "subslide"
    }
   },
   "source": [
    "We could also get Treants that are both good for construction *and* used for making furniture by giving tags as a list:"
   ]
  },
  {
   "cell_type": "code",
   "execution_count": 32,
   "metadata": {
    "collapsed": false,
    "slideshow": {
     "slide_type": "fragment"
    }
   },
   "outputs": [
    {
     "data": {
      "text/plain": [
       "<Bundle([])>"
      ]
     },
     "execution_count": 32,
     "metadata": {},
     "output_type": "execute_result"
    }
   ],
   "source": [
    "# a list of tags serves as an *intersection* query\n",
    "b[b.tags[['building', 'furniture']]]"
   ]
  },
  {
   "cell_type": "markdown",
   "metadata": {
    "slideshow": {
     "slide_type": "fragment"
    }
   },
   "source": [
    "which in this case none of them are."
   ]
  },
  {
   "cell_type": "markdown",
   "metadata": {
    "slideshow": {
     "slide_type": "subslide"
    }
   },
   "source": [
    "Other tag expressions can be constructed using tuples (for *union* operations) and sets (for *negated intersections*), and nesting of any of these works as expected:"
   ]
  },
  {
   "cell_type": "code",
   "execution_count": 33,
   "metadata": {
    "collapsed": false,
    "slideshow": {
     "slide_type": "fragment"
    }
   },
   "outputs": [
    {
     "data": {
      "text/plain": [
       "<Bundle([<Treant: 'oak'>, <Treant: 'maple'>])>"
      ]
     },
     "execution_count": 33,
     "metadata": {},
     "output_type": "execute_result"
    }
   ],
   "source": [
    "# we can get a *union* by using a tuple instead of a list\n",
    "b[b.tags['building', 'furniture']]"
   ]
  },
  {
   "cell_type": "code",
   "execution_count": 34,
   "metadata": {
    "collapsed": false,
    "slideshow": {
     "slide_type": "fragment"
    }
   },
   "outputs": [
    {
     "data": {
      "text/plain": [
       "<Bundle([<Treant: 'oak'>, <Treant: 'sequoia'>, <Treant: 'maple'>, <Treant: 'elm'>])>"
      ]
     },
     "execution_count": 34,
     "metadata": {},
     "output_type": "execute_result"
    }
   ],
   "source": [
    "# and we can get a *negated intersection* by using a set\n",
    "b[b.tags[{'building', 'furniture'}]]"
   ]
  },
  {
   "cell_type": "markdown",
   "metadata": {
    "slideshow": {
     "slide_type": "fragment"
    }
   },
   "source": [
    "Using tag expressions, we can filter to Treants of interest from a ``Bundle`` counting many, perhaps hundreds, of Treants as members."
   ]
  },
  {
   "cell_type": "markdown",
   "metadata": {
    "slideshow": {
     "slide_type": "subslide"
    }
   },
   "source": [
    "### splitting Treants on categories"
   ]
  },
  {
   "cell_type": "markdown",
   "metadata": {},
   "source": [
    "Categories are key-value pairs that provide another mechanism for distinguishing Treants. We can add categories to each Treant:"
   ]
  },
  {
   "cell_type": "code",
   "execution_count": 35,
   "metadata": {
    "collapsed": true,
    "slideshow": {
     "slide_type": "fragment"
    }
   },
   "outputs": [],
   "source": [
    "# add categories to individual members\n",
    "b['oak'].categories = {'age': 'adult',\n",
    "                       'type': 'deciduous',\n",
    "                       'bark': 'mossy'}\n",
    "b['elm'].categories = {'age': 'young',\n",
    "                       'type': 'deciduous',\n",
    "                       'bark': 'smooth'}\n",
    "b['maple'].categories = {'age': 'young',\n",
    "                         'type': 'deciduous',\n",
    "                         'bark': 'mossy'}\n",
    "b['sequoia'].categories = {'age': 'old',\n",
    "                           'type': 'evergreen',\n",
    "                           'bark': 'fibrous',\n",
    "                           'home': 'california'}\n",
    "\n",
    "# add value 'tree' to category 'plant' for all members\n",
    "b.categories.add({'plant': 'tree'})"
   ]
  },
  {
   "cell_type": "markdown",
   "metadata": {
    "slideshow": {
     "slide_type": "subslide"
    }
   },
   "source": [
    "And we can access categories for individual Treants:"
   ]
  },
  {
   "cell_type": "code",
   "execution_count": 40,
   "metadata": {
    "collapsed": false
   },
   "outputs": [
    {
     "data": {
      "text/plain": [
       "<Categories({'age': 'old', 'plant': 'tree', 'bark': 'fibrous', 'home': 'california', 'type': 'evergreen'})>"
      ]
     },
     "execution_count": 40,
     "metadata": {},
     "output_type": "execute_result"
    }
   ],
   "source": [
    "seq = b['sequoia'][0]\n",
    "seq.categories"
   ]
  },
  {
   "cell_type": "markdown",
   "metadata": {
    "slideshow": {
     "slide_type": "fragment"
    }
   },
   "source": [
    "or the aggregated categories for all members in the `Bundle`:"
   ]
  },
  {
   "cell_type": "code",
   "execution_count": 41,
   "metadata": {
    "collapsed": false
   },
   "outputs": [
    {
     "data": {
      "text/plain": [
       "{'age': ['adult', 'old', 'young', 'young'],\n",
       " 'bark': ['mossy', 'fibrous', 'mossy', 'smooth'],\n",
       " 'plant': ['tree', 'tree', 'tree', 'tree'],\n",
       " 'type': ['deciduous', 'evergreen', 'deciduous', 'deciduous']}"
      ]
     },
     "execution_count": 41,
     "metadata": {},
     "output_type": "execute_result"
    }
   ],
   "source": [
    "b.categories.all"
   ]
  },
  {
   "cell_type": "markdown",
   "metadata": {
    "slideshow": {
     "slide_type": "subslide"
    }
   },
   "source": [
    "When many Treants possess the same category keys, we can take a \"split-apply-combine\" approach with them using a `groupby`:"
   ]
  },
  {
   "cell_type": "code",
   "execution_count": 42,
   "metadata": {
    "collapsed": false,
    "slideshow": {
     "slide_type": "fragment"
    }
   },
   "outputs": [
    {
     "data": {
      "text/plain": [
       "{'fibrous': <Bundle([<Treant: 'sequoia'>])>,\n",
       " 'mossy': <Bundle([<Treant: 'oak'>, <Treant: 'maple'>])>,\n",
       " 'smooth': <Bundle([<Treant: 'elm'>])>}"
      ]
     },
     "execution_count": 42,
     "metadata": {},
     "output_type": "execute_result"
    }
   ],
   "source": [
    "b.categories.groupby('bark')"
   ]
  },
  {
   "cell_type": "markdown",
   "metadata": {
    "slideshow": {
     "slide_type": "fragment"
    }
   },
   "source": [
    "We can also group on more than one key:"
   ]
  },
  {
   "cell_type": "code",
   "execution_count": 43,
   "metadata": {
    "collapsed": false
   },
   "outputs": [
    {
     "data": {
      "text/plain": [
       "{('fibrous', 'california'): <Bundle([<Treant: 'sequoia'>])>}"
      ]
     },
     "execution_count": 43,
     "metadata": {},
     "output_type": "execute_result"
    }
   ],
   "source": [
    "b.categories.groupby(['bark', 'home'])"
   ]
  },
  {
   "cell_type": "markdown",
   "metadata": {
    "slideshow": {
     "slide_type": "fragment"
    }
   },
   "source": [
    "By leveraging the `groupby` method, we can extract Treants by category without having to explicitly access each member."
   ]
  },
  {
   "cell_type": "markdown",
   "metadata": {
    "slideshow": {
     "slide_type": "slide"
    }
   },
   "source": [
    "## Treants + the PyData stack"
   ]
  },
  {
   "cell_type": "markdown",
   "metadata": {
    "slideshow": {
     "slide_type": "fragment"
    }
   },
   "source": [
    "``datreant`` fundamentally serves as a Pythonic interface to the filesystem, bringing value to datasets and analysis results by making them easily accessible now and later."
   ]
  },
  {
   "cell_type": "markdown",
   "metadata": {
    "slideshow": {
     "slide_type": "fragment"
    }
   },
   "source": [
    "As data structures and file formats change, ``datreant`` objects can always be used in the same way to supplement the way these tools are used."
   ]
  },
  {
   "cell_type": "markdown",
   "metadata": {
    "slideshow": {
     "slide_type": "subslide"
    }
   },
   "source": [
    "### we can use ``datreant`` + ``pandas`` to split-apply-combine across datasets"
   ]
  },
  {
   "cell_type": "markdown",
   "metadata": {
    "slideshow": {
     "slide_type": "fragment"
    }
   },
   "source": [
    "Gathering up a number of Treants, each corresponding to an MD simulation run with differing parameters:"
   ]
  },
  {
   "cell_type": "code",
   "execution_count": 44,
   "metadata": {
    "collapsed": false
   },
   "outputs": [
    {
     "data": {
      "text/plain": [
       "49"
      ]
     },
     "execution_count": 44,
     "metadata": {},
     "output_type": "execute_result"
    }
   ],
   "source": [
    "b = dtr.discover('sims/')\n",
    "len(b)"
   ]
  },
  {
   "cell_type": "markdown",
   "metadata": {
    "slideshow": {
     "slide_type": "fragment"
    }
   },
   "source": [
    "We want to examine a bond angle between three atoms, previously collected and stored in CSV files:"
   ]
  },
  {
   "cell_type": "code",
   "execution_count": 45,
   "metadata": {
    "collapsed": false
   },
   "outputs": [
    {
     "name": "stdout",
     "output_type": "stream",
     "text": [
      "angles/\n",
      " +-- sna_cg_cb/\n",
      " +-- sna_cg_cb.csv\n",
      "angles/\n",
      " +-- sna_cg_cb/\n",
      " +-- sna_cg_cb.csv\n",
      "angles/\n",
      " +-- sna_cg_cb/\n",
      " +-- sna_cg_cb.csv\n"
     ]
    }
   ],
   "source": [
    "b[:3].loc['angles'].draw(depth=1)"
   ]
  },
  {
   "cell_type": "markdown",
   "metadata": {
    "slideshow": {
     "slide_type": "subslide"
    }
   },
   "source": [
    "We can group the Treants by the parameter we're testing, `cth`, for which we tested 7 different values:"
   ]
  },
  {
   "cell_type": "code",
   "execution_count": 46,
   "metadata": {
    "collapsed": false
   },
   "outputs": [
    {
     "data": {
      "text/plain": [
       "{9.84841905,\n",
       " 13.1312254,\n",
       " 16.41403175,\n",
       " 19.6968381,\n",
       " 22.97964445,\n",
       " 26.2624508,\n",
       " 27.84115237}"
      ]
     },
     "execution_count": 46,
     "metadata": {},
     "output_type": "execute_result"
    }
   ],
   "source": [
    "set(b.categories['cth'])"
   ]
  },
  {
   "cell_type": "markdown",
   "metadata": {
    "slideshow": {
     "slide_type": "subslide"
    }
   },
   "source": [
    "and we can histogram these angles as a function of this parameter:"
   ]
  },
  {
   "cell_type": "code",
   "execution_count": 47,
   "metadata": {
    "collapsed": false,
    "slideshow": {
     "slide_type": "-"
    }
   },
   "outputs": [
    {
     "data": {
      "text/plain": [
       "<matplotlib.legend.Legend at 0x7f1d7a9a0eb8>"
      ]
     },
     "execution_count": 47,
     "metadata": {},
     "output_type": "execute_result"
    },
    {
     "data": {
      "image/png": "[encoded data removed]",
      "text/plain": [
       "<matplotlib.figure.Figure at 0x7f1d7aaf9240>"
      ]
     },
     "metadata": {},
     "output_type": "display_data"
    }
   ],
   "source": [
    "fig = plt.figure(figsize=(7, 4))\n",
    "ax = fig.add_subplot(1,1,1)\n",
    "\n",
    "groups = b.categories.groupby('cth')\n",
    "\n",
    "for cth in sorted(groups.keys()):\n",
    "    s = pd.concat(\n",
    "        [pd.read_csv(csv.relpath, header=None, index_col=0) \n",
    "         for csv in groups[cth].loc['angles/sna_cg_cb.csv']])[1]\n",
    "\n",
    "    s.plot.hist(bins=150, histtype='step', ax=ax, normed=True,\n",
    "                label=\"cth: {}\".format(cth))\n",
    "    \n",
    "ax.legend(loc='upper left')"
   ]
  },
  {
   "cell_type": "markdown",
   "metadata": {
    "slideshow": {
     "slide_type": "slide"
    }
   },
   "source": [
    "## building domain-specific applications on datreant"
   ]
  },
  {
   "cell_type": "markdown",
   "metadata": {
    "slideshow": {
     "slide_type": "fragment"
    }
   },
   "source": [
    "Custom ``Treant`` subclasses can be defined in domain-specific packages to address domain-specific needs."
   ]
  },
  {
   "cell_type": "markdown",
   "metadata": {
    "slideshow": {
     "slide_type": "subslide"
    }
   },
   "source": [
    "<right><img src=\"figs/mdsynthesis-logo.png\" alt=\"tree\" height=\"400\" width=\"300\" align='right'></right>"
   ]
  },
  {
   "cell_type": "markdown",
   "metadata": {
    "slideshow": {
     "slide_type": "-"
    }
   },
   "source": [
    "**``mdsynthesis``** enables high-level management and exploration of MD data."
   ]
  },
  {
   "cell_type": "markdown",
   "metadata": {
    "slideshow": {
     "slide_type": "fragment"
    }
   },
   "source": [
    "* uses **MDAnalysis** (go to the talk at 4pm!) to parse trajectory data \n",
    "* makes it possible to write analysis code that can work across many varieties of simulation\n",
    "* allows interactive work with hundreds of simulations with little effort\n"
   ]
  },
  {
   "cell_type": "code",
   "execution_count": 48,
   "metadata": {
    "collapsed": false
   },
   "outputs": [
    {
     "data": {
      "text/plain": [
       "<Universe with 11552 atoms and 11670 bonds>"
      ]
     },
     "execution_count": 48,
     "metadata": {},
     "output_type": "execute_result"
    }
   ],
   "source": [
    "mds.discover('dims/')[1].universe"
   ]
  },
  {
   "cell_type": "markdown",
   "metadata": {
    "slideshow": {
     "slide_type": "slide"
    }
   },
   "source": [
    "## where we are going"
   ]
  },
  {
   "cell_type": "markdown",
   "metadata": {
    "slideshow": {
     "slide_type": "fragment"
    }
   },
   "source": [
    "``datreant`` is a young project with a growing development community. There's plenty of room for new contributions at all levels."
   ]
  },
  {
   "cell_type": "markdown",
   "metadata": {
    "slideshow": {
     "slide_type": "fragment"
    }
   },
   "source": [
    "``datreant`` is also a *namespace package*. ``datreant.core`` is dependency-light, but new functionality for Treants can be provided by other packages:\n",
    "* ``datreant.data`` : convenience interfaces for storing and retrieving ``pandas`` and ``numpy`` objects in HDF5 using PyTables + ``h5py``"
   ]
  },
  {
   "cell_type": "markdown",
   "metadata": {
    "slideshow": {
     "slide_type": "fragment"
    }
   },
   "source": [
    "Perhaps we could do:\n",
    "* ``datreant.git`` : an API for version controlling a Treant as a git repo\n",
    "* ``datreant.hdfs`` : Treants for HDFS filesystems\n",
    "* ``datreant.remote`` : Treants on remote machines through SSH"
   ]
  },
  {
   "cell_type": "markdown",
   "metadata": {
    "slideshow": {
     "slide_type": "subslide"
    }
   },
   "source": [
    "## Let's talk"
   ]
  },
  {
   "cell_type": "markdown",
   "metadata": {},
   "source": [
    "Find us at http://datreant.org\n",
    "\n",
    "Join our mailing list: http://groups.google.com/group/datreant\n",
    "\n",
    "packages available on both PyPI and our Anaconda channel (datreant)."
   ]
  },
  {
   "cell_type": "markdown",
   "metadata": {
    "slideshow": {
     "slide_type": "slide"
    }
   },
   "source": [
    "## acknowledgments"
   ]
  },
  {
   "cell_type": "markdown",
   "metadata": {
    "slideshow": {
     "slide_type": "fragment"
    }
   },
   "source": [
    "#### partners in crime:\n",
    "\n",
    "Sean L. Seyler   \n",
    "Max Linke    \n",
    "Richard Gowers  \n",
    "Gabriele Lanaro  \n",
    "Chris Ing  "
   ]
  },
  {
   "cell_type": "markdown",
   "metadata": {
    "collapsed": true,
    "slideshow": {
     "slide_type": "fragment"
    }
   },
   "source": [
    "#### the encouragement:\n",
    "\n",
    "Oliver Beckstein, beloved advisor and benevolent tyrant"
   ]
  }
 ],
 "metadata": {
  "celltoolbar": "Slideshow",
  "kernelspec": {
   "display_name": "Python 3",
   "language": "python",
   "name": "python3"
  },
  "language_info": {
   "codemirror_mode": {
    "name": "ipython",
    "version": 3
   },
   "file_extension": ".py",
   "mimetype": "text/x-python",
   "name": "python",
   "nbconvert_exporter": "python",
   "pygments_lexer": "ipython3",
   "version": "3.5.2"
  }
 },
 "nbformat": 4,
 "nbformat_minor": 0
}
